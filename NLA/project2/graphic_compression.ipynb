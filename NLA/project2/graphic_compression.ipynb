{
  "nbformat": 4,
  "nbformat_minor": 0,
  "metadata": {
    "colab": {
      "provenance": []
    },
    "kernelspec": {
      "name": "python3",
      "display_name": "Python 3"
    },
    "language_info": {
      "name": "python"
    }
  },
  "cells": [
    {
      "cell_type": "code",
      "execution_count": 2,
      "metadata": {
        "colab": {
          "base_uri": "https://localhost:8080/"
        },
        "id": "rV5Ej7L5hayJ",
        "outputId": "803427f1-9959-4c60-996d-9b75ac64ae7d"
      },
      "outputs": [
        {
          "output_type": "stream",
          "name": "stdout",
          "text": [
            "Mounted at /content/drive\n"
          ]
        }
      ],
      "source": [
        "from google.colab import drive\n",
        "drive.mount('/content/drive')"
      ]
    },
    {
      "cell_type": "code",
      "source": [
        "import numpy as np\n",
        "from scipy.linalg import svd\n",
        "import os\n",
        "\n",
        "def svd_compression_color(image_path, output_dir, ranks, name):\n",
        "    \"\"\"\n",
        "    Compress a color image using SVD for specified ranks.\n",
        "\n",
        "    Parameters:\n",
        "        image_path (str): Path to the input image file.\n",
        "        output_dir (str): Directory to save the compressed images.\n",
        "        ranks (list of int): List of ranks to generate compressed images.\n",
        "        name: name of the output image\n",
        "    \"\"\"\n",
        "    # Read the image\n",
        "    image = plt.imread(image_path)\n",
        "\n",
        "    # Ensure the output directory exists\n",
        "    os.makedirs(output_dir, exist_ok=True)\n",
        "\n",
        "    # Initialize Frobenius norm for comparison\n",
        "    fro_norm_original = np.linalg.norm(image)\n",
        "\n",
        "    # Process each rank\n",
        "    for r in ranks:\n",
        "        # Initialize the compressed image\n",
        "        compressed_image = np.zeros_like(image, dtype=np.float64)\n",
        "\n",
        "        # Process each color channel\n",
        "        for channel in range(3):  # 0=Red, 1=Green, 2=Blue\n",
        "            img_channel = image[:, :, channel]\n",
        "\n",
        "            # Perform SVD\n",
        "            U, S, Vt = svd(img_channel, full_matrices=False)\n",
        "\n",
        "            # Retain only the top `r` singular values\n",
        "            U_r = U[:, :r]\n",
        "            S_r = S[:r]\n",
        "            Vt_r = Vt[:r, :]\n",
        "\n",
        "            # Reconstruct the channel\n",
        "            compressed_image[:, :, channel] = np.dot(U_r, np.dot(np.diag(S_r), Vt_r))\n",
        "\n",
        "        # Clip values to ensure they fall within valid range for images\n",
        "        compressed_image = np.clip(compressed_image, 0, 255)\n",
        "\n",
        "        # Compute the Frobenius norm retained\n",
        "        fro_norm_compressed = np.linalg.norm(compressed_image)\n",
        "        fro_norm_retained = (fro_norm_compressed / fro_norm_original) * 100\n",
        "\n",
        "        # Save the compressed image\n",
        "        output_filename = f\"{name}_rank_{r}_retained_{fro_norm_retained:.2f}.jpg\"\n",
        "        output_path = os.path.join(output_dir, output_filename)\n",
        "        plt.imsave(output_path, compressed_image.astype(np.uint8))\n",
        "\n",
        "        print(f\"Saved: {output_path} | Frobenius Norm Retained: {fro_norm_retained:.2f}%\")\n"
      ],
      "metadata": {
        "id": "2VrrbS-tothQ"
      },
      "execution_count": 4,
      "outputs": []
    },
    {
      "cell_type": "code",
      "source": [
        "# Execute for 3 different images\n",
        "\n",
        "# universitat de barcelona\n",
        "image_path = \"drive/MyDrive/Numerical_Linear_Algebra/project2/universitat_barcelona.jpeg\"\n",
        "output_dir = 'drive/MyDrive/Numerical_Linear_Algebra/project2/compressed_images'\n",
        "svd_compression_color(image_path, output_dir, ranks=[5, 10, 50, 100], name='ub')\n",
        "\n",
        "# beach\n",
        "image_path = \"drive/MyDrive/Numerical_Linear_Algebra/project2/beach.jpeg\"\n",
        "output_dir = 'drive/MyDrive/Numerical_Linear_Algebra/project2/compressed_images'\n",
        "svd_compression_color(image_path, output_dir, ranks=[5, 10, 50, 100], name='beach')\n",
        "\n",
        "# zara\n",
        "image_path = \"drive/MyDrive/Numerical_Linear_Algebra/project2/zara.jpeg\"\n",
        "output_dir = 'drive/MyDrive/Numerical_Linear_Algebra/project2/compressed_images'\n",
        "svd_compression_color(image_path, output_dir, ranks=[5, 10, 50, 100], name='zara')"
      ],
      "metadata": {
        "colab": {
          "base_uri": "https://localhost:8080/"
        },
        "id": "DQ7zCVsyTQCL",
        "outputId": "e46b9f79-f4d5-445f-eefb-93e5f23d0145"
      },
      "execution_count": 6,
      "outputs": [
        {
          "output_type": "stream",
          "name": "stdout",
          "text": [
            "Saved: drive/MyDrive/Numerical_Linear_Algebra/project2/compressed_images/ub_rank_5_retained_96.69.jpg | Frobenius Norm Retained: 96.69%\n",
            "Saved: drive/MyDrive/Numerical_Linear_Algebra/project2/compressed_images/ub_rank_10_retained_97.47.jpg | Frobenius Norm Retained: 97.47%\n",
            "Saved: drive/MyDrive/Numerical_Linear_Algebra/project2/compressed_images/ub_rank_50_retained_98.82.jpg | Frobenius Norm Retained: 98.82%\n",
            "Saved: drive/MyDrive/Numerical_Linear_Algebra/project2/compressed_images/ub_rank_100_retained_99.31.jpg | Frobenius Norm Retained: 99.31%\n",
            "Saved: drive/MyDrive/Numerical_Linear_Algebra/project2/compressed_images/beach_rank_5_retained_98.31.jpg | Frobenius Norm Retained: 98.31%\n",
            "Saved: drive/MyDrive/Numerical_Linear_Algebra/project2/compressed_images/beach_rank_10_retained_98.79.jpg | Frobenius Norm Retained: 98.79%\n",
            "Saved: drive/MyDrive/Numerical_Linear_Algebra/project2/compressed_images/beach_rank_50_retained_99.41.jpg | Frobenius Norm Retained: 99.41%\n",
            "Saved: drive/MyDrive/Numerical_Linear_Algebra/project2/compressed_images/beach_rank_100_retained_99.58.jpg | Frobenius Norm Retained: 99.58%\n",
            "Saved: drive/MyDrive/Numerical_Linear_Algebra/project2/compressed_images/zara_rank_5_retained_89.97.jpg | Frobenius Norm Retained: 89.97%\n",
            "Saved: drive/MyDrive/Numerical_Linear_Algebra/project2/compressed_images/zara_rank_10_retained_93.46.jpg | Frobenius Norm Retained: 93.46%\n",
            "Saved: drive/MyDrive/Numerical_Linear_Algebra/project2/compressed_images/zara_rank_50_retained_98.56.jpg | Frobenius Norm Retained: 98.56%\n",
            "Saved: drive/MyDrive/Numerical_Linear_Algebra/project2/compressed_images/zara_rank_100_retained_99.32.jpg | Frobenius Norm Retained: 99.32%\n"
          ]
        }
      ]
    }
  ]
}