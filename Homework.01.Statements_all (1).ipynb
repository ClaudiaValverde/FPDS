{
 "cells": [
  {
   "cell_type": "markdown",
   "id": "ba04fedd",
   "metadata": {
    "id": "indoor-catalyst",
    "tags": []
   },
   "source": [
    "<h1 style=\"color:blue\"> Bayesian Statistics and Probabilistic Programming</h1>\n",
    "\n",
    "<h1 style=\"color:blue\"> Spring 2024 - Homework 01</h1>\n",
    "\n",
    "<h3 style=\"color:blue\">2024-03-25</h3>\n",
    "\n",
    "<h3 style=\"color:blue\">Team members:</h3>\n",
    "\n",
    "- Alejandro Astruc López (aastrulo56@alumnes.ub.edu)\n",
    "- Joel Dieguez Vila (jdieguvi15@alumnes.ub.edu)\n",
    "- Alba García Romo (agarciro335@alumnes.ub.edu)\n",
    "- Clàudia Valverde Sánchez (clvalves7@alumnes.ub.edu)\n"
   ]
  },
  {
   "cell_type": "markdown",
   "id": "c7a4076b",
   "metadata": {
    "id": "floppy-carbon"
   },
   "source": [
    "<h1 style=\"color:blue\">Instructions</h1>"
   ]
  },
  {
   "cell_type": "markdown",
   "id": "c0c411b0",
   "metadata": {
    "id": "70c9392f-68be-443f-869f-3d11500d23d8"
   },
   "source": [
    "### Submissions:\n",
    "\n",
    "1. By **groups** of _about_ three students (meaning: two is OK, four is not advisable but possible. Individual homeworks will also be accepted but collaborative work is preferable).\n",
    "\n",
    "2. Please send me an **email** with the team members names by March 31.\n",
    "\n",
    "3. Only **one copy** of each group's work must be uploaded (by any member).\n",
    "\n",
    "4. **Full names** and **email address** of all team members must appear in the header."
   ]
  },
  {
   "cell_type": "markdown",
   "id": "8b110fa4",
   "metadata": {
    "id": "205b1149-7745-4070-af12-b16374a0b741"
   },
   "source": [
    "### Format:\n",
    "\n",
    "A Jupyter or an Rmd **notebook** with a **header** clearly stating the names of all contributors."
   ]
  },
  {
   "cell_type": "markdown",
   "id": "060c038c",
   "metadata": {
    "id": "c7ffc8d7-72ad-4915-a21b-863c669d439d",
    "tags": []
   },
   "source": [
    "### Documentation:\n",
    "\n",
    "1. Comments **in code cells** (e.g., meaning of variables, parameters, purpose of functions) are necessary but not sufficient.\n",
    "\n",
    "2. You are expected to give full explanations of steps taken in your solution (in **Markdown cells**), as well as discussion of results and their meaning.\n",
    "\n",
    "3. Do not be afraid of being too verbose or too elementary, explain as if to someone learning."
   ]
  },
  {
   "cell_type": "markdown",
   "id": "420f0eab",
   "metadata": {
    "id": "de26c667-4256-4b2a-bfb8-cc11bc9a10bb"
   },
   "source": [
    "### External sources\n",
    "\n",
    "Getting _inspiration_ from any book, document, blog, web page, even mimicking solutions given in there, is **allowed and encouraged,** provided you give a **proper reference,** understand every such material, and explain it in you own words, even more exhaustively. Do not **copy/paste literally large chunks of code** I will detect it, believe me, even missing source reference. Bleak consequences."
   ]
  },
  {
   "cell_type": "markdown",
   "id": "6367f5d9",
   "metadata": {
    "id": "52ca45a3-4eab-4ff4-94d1-0fac33d6e15a"
   },
   "source": [
    "### Deadline:\n",
    "\n",
    "Completed assignments are due on **Monday, April 15**. They are to be uploaded to the Virtual Campus."
   ]
  },
  {
   "cell_type": "markdown",
   "id": "f32c3edc",
   "metadata": {
    "id": "b51a75a2"
   },
   "source": [
    "<h1 style=\"color:blue\">Exercises</h1>"
   ]
  },
  {
   "cell_type": "markdown",
   "id": "c5fcee78",
   "metadata": {
    "id": "41a31419"
   },
   "source": [
    "## Exercise 1: Placenta previa"
   ]
  },
  {
   "cell_type": "markdown",
   "id": "0abd4640",
   "metadata": {
    "id": "5dc76861"
   },
   "source": [
    "This exercise pertains to what we studied in `Binomial.3.Placenta.previa.pub.ipynb`.\n",
    "\n",
    "1. Compute the posterior pdf, and both prior and posterior predictor pmf for the placenta previa problem, using a conjugate $\\textrm{Beta}(\\alpha,\\beta)$ prior, for several values of the parameters, obtaining for each of them a 95% (centered) credible interval and the MAP and posterior expectation estimators of $\\theta$. In particular, reproduce Figure 2.3 and Table 2.1 in <a href=\"https://users.aalto.fi/~ave/BDA3.pdf\">BDA3</a> [1]. Do the same for those $\\alpha_0$ and $\\beta_0$ such that $\\textrm{Beta}(\\alpha_0,\\beta_0)$ has the same expectation and variance than the piecewise linear nonconjugate prior. Compare the posterior quantities with both priors.\n",
    "\n",
    "2. Simulate the prior predictive pmf with the nonconjugate piecewise linear pdf. Do it in both possible ways: (1) Sample from $h$ by the inverse transformation method and (2) Sample from its discretization. Summarize the resulting simulated sample: plot the empirical pmf, compute median, mode, expectation, standard deviation. Compare the results with those obtained from the conjugate prior $\\textrm{Beta}(\\alpha_0,\\beta_0)$.\n",
    "\n",
    "3. Simulate the posterior predictive pmf (given the observed data of 437 female births from 980 placenta previa births) with the nonconjugate piecewise linear pdf. Sample from the the discretization of the posterior pdf as in Exercise 1. Summarize the resulting simulated sample: plot the empirical pmf, compute median, mode, expectation, standard deviation. Compare the results with those obtained from the conjugate prior $\\textrm{Beta}(\\alpha_0,\\beta_0)$.\n",
    "\n",
    "[1] _Bayesian Data Analysis - Third edition_ **(BDA3),** pag. 37."
   ]
  },
  {
   "cell_type": "markdown",
   "id": "72d16d60",
   "metadata": {
    "id": "hBsFEKFH1vDc"
   },
   "source": [
    "## Answer 1.1"
   ]
  },
  {
   "cell_type": "markdown",
   "id": "3ffc902b",
   "metadata": {
    "id": "is0zkEydipTD"
   },
   "source": [
    "### Posterior pdf, prior and posterior predictor pmf:\n",
    "\n",
    "Begining with Bayes' rule we can obtain the posterior density:\n",
    "\n",
    "\n",
    "<center> $p(θ \\mid y) = \\displaystyle\\frac{p(θ)p(y \\mid θ)}{p(y)}$, </center>\n",
    "\n",
    "where whe have:\n",
    "\n",
    "- $p(θ \\mid y)$, the posterior pdf (porbability density function).\n",
    "- $p(y \\mid θ)$, the likelihood.\n",
    "- $p(y)$, prior preditive pmf.\n",
    "- $p(θ)$, the prior.  \n",
    "\n",
    "Given a hypothetical model for generating the observed data $y$, the model depends on a set of parameters represented by $θ$. Prior knowledge based on previous studies informs us about the statistical distribution $θ$ must be sampled from, i.e., the prior distribution $p(θ)$.   \n",
    "\n",
    "For the placenta previa problem: we model the ocurrence of female birth as a binomial distribution, meaning that for a given $θ$ the probability of observing $y$ female births on a population of $n$ women with placenta previa is (likelihood): <center> $p(y \\mid θ) =\\displaystyle\\binom ny θ^y(1-θ)^{n-y}$. </center>\n",
    "\n",
    "Here $θ$ represents the probability of a single placenta previa pregnancy leading the the brith of a female baby.\n",
    "\n",
    "Now we are asked to use a beta distibution as prior: <center> $ θ  \\sim \\operatorname{Beta}(\\alpha, \\beta) $, or equivalently $p(θ)= \\displaystyle{θ^{\\alpha-1}(1-θ)^{\\beta-1} \\over \\textrm{B}(\\alpha,\\beta)} $, </center>\n",
    "where $\\textrm{B}$ is the beta function.\n",
    "\n",
    "In this case we have  conjugate prior, meaning the posterior follows a beta dsitribution as well. If we take into account that the marginal probability (prior predictive):\n",
    "\n",
    "* $p(y)=\\displaystyle\\int_0^1 p(y\\mid θ)p(θ) dθ\n",
    " = \\displaystyle\\int_0^1 \\binom ny θ^y(1-θ)^{n-y} \\cdot {θ^{\\alpha-1}(1-θ)^{\\beta-1} \\over \\textrm{B}(\\alpha,\\beta)} dθ  = \\\\\n",
    " = \\displaystyle\\int_0^1 \\binom ny {θ^{\\alpha+y-1} (1-θ)^{\\beta+n-y-1} \\over \\textrm{B}(\\alpha,\\beta)} dθ\n",
    " = \\displaystyle \\binom ny \\frac{\\textrm{B}(\\alpha+y,\\beta+n-y)}{\\textrm{B}(\\alpha,\\beta)}$\n",
    "\n",
    " a beta binomial, then, we have all the neccesary elements to compute the posterior probability density function and obtain:\n",
    "\n",
    " <center> $θ \\sim \\textrm{Beta}(\\alpha+y,\\beta+n-y)$\n",
    "\n",
    " <center> $p(θ\\mid y) = \\displaystyle\\frac{p(θ)p(y \\mid θ)}{p(y)}\n",
    " = \\frac{\\frac{θ^{\\alpha-1}(1-θ)^{\\beta-1}}{\\textrm{B}(\\alpha,\\beta)} \\cdot \\binom ny θ^y(1-θ)^{n-y}}{\\binom ny \\frac{\\textrm{B}(\\alpha+y,\\beta+n-y)}{\\textrm{B}(\\alpha,\\beta)}}\n",
    " = \\displaystyle{θ^{\\alpha+y-1}(1-θ)^{\\beta+n-y-1} \\over \\textrm{B}(\\alpha + y,\\beta +n -y)} $ </center>\n",
    "\n",
    "Implying that:\n",
    " * $\\mathbb{E}[p(θ\\mid y)]=\\displaystyle\\frac{\\alpha+y}{\\alpha + β + n}$\n",
    " * $mode$ $[p(θ\\mid y)]= \\displaystyle\\frac{\\alpha+y-1}{\\alpha+\\beta+n-2}$ for $\\alpha+y,\\beta-y+n>1$\n",
    "\n",
    "This directly shows how, given a binomial model, the piror conjugate distribution is updated into the posterior after new evidence is incorporated.\n",
    "\n",
    "Now, for calculating the probability of observing new data $\\tilde{y}$ based on the prior and observed knowledge we look into the posterior predictive distribution. It is obtained by integrating the likelihood  of the new data over all $θ$'s weighted by the posterior probability of each $θ$: <center>$p(\\tilde{y}\\mid y)=\\displaystyle\\int p(\\tilde{y} \\mid \\tilde θ)p(\\tilde θ\\mid y)d \\tilde θ= {\\tilde{n}\\choose \\tilde{y}}\\frac{\\mathrm{B}(\\alpha + y +\\tilde{y},\\beta + n + \\tilde{n}-y-\\tilde{y})} {\\mathrm{B}(\\alpha+y,\\beta+y-n)},$</center> which is a Beta-Binomial distribution.\n",
    "\n",
    "Our newly observed data is that:  <center> $y = 437$ and $n = 980$. </center>\n",
    "\n",
    "Meanwhile, we know that the porportion of female births on the general population is $0.485$, that is, we are given the expectation of the prior distribution:  <center> $\\mathbb{E}[θ]=\\displaystyle\\frac{α}{α+β} =μ =0.458$. </center>\n",
    "\n",
    "\n",
    "\n"
   ]
  },
  {
   "cell_type": "markdown",
   "id": "a9f2d0a7",
   "metadata": {
    "id": "n0Vh9YhHz-88"
   },
   "source": [
    "We are going to propose several values based on the selection of the parameters based on the book BDA3.\n",
    "\n",
    "In the first cell, we are going to reproduce figure 2.3, with the graphics for the different values selected.\n",
    "\n",
    "In the second cell, we reproduce the table 2.1 and add some fields. The table is composed by:\n",
    "- The first columns represent alpha / (alpha + beta) and alpha + beta\n",
    "- From these two values, we extract the alpha and beta\n",
    "- Then we calculate the MAP\n",
    "- The posterior expectation estimators of 𝜃 (PEE)\n",
    "- And the median\n",
    "- Then we propose two different confidence intervals, the first one centered around the MAP and the second one using quantiles\n",
    "- We also wanted to show their length, to evaluate them"
   ]
  },
  {
   "cell_type": "code",
   "execution_count": 1,
   "id": "7051dc99",
   "metadata": {
    "id": "ojeRnt8T049I"
   },
   "outputs": [],
   "source": [
    "values <- list(c(0.500, 2), c(0.485, 2), c(0.485, 5), c(0.485, 10), c(0.485, 20), c(0.485, 100), c(0.485, 200))"
   ]
  },
  {
   "cell_type": "code",
   "execution_count": 2,
   "id": "b3a89926",
   "metadata": {
    "colab": {
     "base_uri": "https://localhost:8080/",
     "height": 1000
    },
    "executionInfo": {
     "elapsed": 1110,
     "status": "ok",
     "timestamp": 1713107537472,
     "user": {
      "displayName": "Alejandro Astruc Lopez",
      "userId": "15785364370750752569"
     },
     "user_tz": -120
    },
    "id": "jAOOxKLbEchj",
    "outputId": "0a406d3c-fcaf-4899-927d-9ebe0c74daa4"
   },
   "outputs": [
    {
     "name": "stdout",
     "output_type": "stream",
     "text": [
      "Graphics for values: alpha = 1 , beta =  1 \n"
     ]
    },
    {
     "data": {
      "image/png": "[encoded data removed]",
      "text/plain": [
       "Plot with title \"Male to female sex ratio\""
      ]
     },
     "metadata": {
      "image/png": {
       "height": 240,
       "width": 600
      }
     },
     "output_type": "display_data"
    },
    {
     "name": "stdout",
     "output_type": "stream",
     "text": [
      "Graphics for values: alpha = 0.97 , beta =  1.03 \n"
     ]
    },
    {
     "data": {
      "image/png": "[encoded data removed]",
      "text/plain": [
       "Plot with title \"Male to female sex ratio\""
      ]
     },
     "metadata": {
      "image/png": {
       "height": 240,
       "width": 600
      }
     },
     "output_type": "display_data"
    },
    {
     "name": "stdout",
     "output_type": "stream",
     "text": [
      "Graphics for values: alpha = 2.425 , beta =  2.575 \n"
     ]
    },
    {
     "data": {
      "image/png": "[encoded data removed]",
      "text/plain": [
       "Plot with title \"Male to female sex ratio\""
      ]
     },
     "metadata": {
      "image/png": {
       "height": 240,
       "width": 600
      }
     },
     "output_type": "display_data"
    },
    {
     "name": "stdout",
     "output_type": "stream",
     "text": [
      "Graphics for values: alpha = 4.85 , beta =  5.15 \n"
     ]
    },
    {
     "data": {
      "image/png": "[encoded data removed]",
      "text/plain": [
       "Plot with title \"Male to female sex ratio\""
      ]
     },
     "metadata": {
      "image/png": {
       "height": 240,
       "width": 600
      }
     },
     "output_type": "display_data"
    },
    {
     "name": "stdout",
     "output_type": "stream",
     "text": [
      "Graphics for values: alpha = 9.7 , beta =  10.3 \n"
     ]
    },
    {
     "data": {
      "image/png": "[encoded data removed]",
      "text/plain": [
       "Plot with title \"Male to female sex ratio\""
      ]
     },
     "metadata": {
      "image/png": {
       "height": 240,
       "width": 600
      }
     },
     "output_type": "display_data"
    },
    {
     "name": "stdout",
     "output_type": "stream",
     "text": [
      "Graphics for values: alpha = 48.5 , beta =  51.5 \n"
     ]
    },
    {
     "data": {
      "image/png": "[encoded data removed]",
      "text/plain": [
       "Plot with title \"Male to female sex ratio\""
      ]
     },
     "metadata": {
      "image/png": {
       "height": 240,
       "width": 600
      }
     },
     "output_type": "display_data"
    },
    {
     "name": "stdout",
     "output_type": "stream",
     "text": [
      "Graphics for values: alpha = 97 , beta =  103 \n"
     ]
    },
    {
     "data": {
      "image/png": "[encoded data removed]",
      "text/plain": [
       "Plot with title \"Male to female sex ratio\""
      ]
     },
     "metadata": {
      "image/png": {
       "height": 240,
       "width": 600
      }
     },
     "output_type": "display_data"
    }
   ],
   "source": [
    "n = 980\n",
    "y = 473\n",
    "par(pin=c(4, 6))\n",
    "for (val in values) {\n",
    "    nu = val[1]\n",
    "    sum = val[2]\n",
    "    alpha = nu*sum\n",
    "    beta = sum - alpha\n",
    "    N = 10000\n",
    "    samples = rbeta(N,alpha+y,beta+n-y)\n",
    "    par(mfrow = c(1, 3), mar = c(5, 4, 4, 2))\n",
    "    options(repr.plot.width=10, repr.plot.height=4)\n",
    "    a=45\n",
    "    hist(samples, breaks=a, freq=FALSE, main=\"Theta samples\")\n",
    "    hist(log(samples), breaks=a, freq=FALSE, main=\"Log theta\")\n",
    "    hist((1-samples)/samples, breaks=a, freq=FALSE, main=\"Male to female sex ratio\")\n",
    "    cat(\"Graphics for values: alpha =\", alpha, \", beta = \", beta, \"\\n\")\n",
    "}"
   ]
  },
  {
   "cell_type": "markdown",
   "id": "37c19665",
   "metadata": {
    "id": "Ss5oJ1mMhfkz"
   },
   "source": [
    "We are going to pick some values of alpha and beta based on the proportion of the women in all the population and the sum"
   ]
  },
  {
   "cell_type": "code",
   "execution_count": 3,
   "id": "6e7f5ce7",
   "metadata": {
    "colab": {
     "base_uri": "https://localhost:8080/"
    },
    "executionInfo": {
     "elapsed": 256,
     "status": "ok",
     "timestamp": 1712858947035,
     "user": {
      "displayName": "joel dvd",
      "userId": "11259257486526231607"
     },
     "user_tz": -120
    },
    "id": "9mwiNOxEGkIm",
    "outputId": "26366f81-e720-4320-c426-f401076798b9"
   },
   "outputs": [
    {
     "name": "stdout",
     "output_type": "stream",
     "text": [
      "a/(a+b)\ta+b\talpha\tbeta\tMAP\t\tPEE\t\tmedian\t\tCentered conf. int.\t\tCCI length\tconfidence interval\t\tCI lenght\n",
      "0.5 \t 2 \t 1 \t 1 \t 0.4459184 \t 0.4460285 \t 0.4459919 \t [ 0.414504 , 0.4773328 ] \t 0.06282883 \t [ 0.4150655 , 0.4771998 ]\t 0.06213428  \n",
      "0.485 \t 2 \t 0.97 \t 1.03 \t 0.4458878 \t 0.445998 \t 0.4459613 \t [ 0.4145758 , 0.4771997 ] \t 0.06262383 \t [ 0.4150352 , 0.4771691 ]\t 0.06213386  \n",
      "0.485 \t 5 \t 2.425 \t 2.575 \t 0.4460071 \t 0.4461168 \t 0.4460803 \t [ 0.4151055 , 0.4769087 ] \t 0.06180326 \t [ 0.4151999 , 0.4772408 ]\t 0.06204092  \n",
      "0.485 \t 10 \t 4.85 \t 5.15 \t 0.4462045 \t 0.4463131 \t 0.446277 \t [ 0.414854 , 0.4775549 ] \t 0.06270095 \t [ 0.4154724 , 0.4773593 ]\t 0.06188693  \n",
      "0.485 \t 20 \t 9.7 \t 10.3 \t 0.4465932 \t 0.4467 \t 0.4466645 \t [ 0.4159112 , 0.4772752 ] \t 0.06136396 \t [ 0.4160098 , 0.4775921 ]\t 0.06158232  \n",
      "0.485 \t 100 \t 48.5 \t 51.5 \t 0.4494434 \t 0.449537 \t 0.4495059 \t [ 0.4195688 , 0.479318 ] \t 0.05974914 \t [ 0.4199775 , 0.4792736 ]\t 0.05929606  \n",
      "0.485 \t 200 \t 97 \t 103 \t 0.4524618 \t 0.4525424 \t 0.4525156 \t [ 0.4235357 , 0.4813879 ] \t 0.05785222 \t [ 0.4242362 , 0.481001 ]\t 0.05676482  \n"
     ]
    }
   ],
   "source": [
    "n = 980\n",
    "y = 437\n",
    "\n",
    "cat('a/(a+b)\\ta+b\\talpha\\tbeta\\tMAP\\t\\tPEE\\t\\tmedian\\t\\tCentered conf. int.\\t\\tCCI length\\tconfidence interval\\t\\tCI lenght\\n')\n",
    "for (val in values) {\n",
    "    nu = val[1]\n",
    "    sum = val[2]\n",
    "    alpha = nu * sum\n",
    "    beta = sum - alpha\n",
    "    MAP = (alpha + y - 1) / (sum + n - 2)\n",
    "    pee = (alpha + y) / (alpha + beta + n)\n",
    "\n",
    "    confidence_level = 0.95\n",
    "    lower_bound = qbeta((1 - confidence_level) / 2, alpha+y, beta+n-y)\n",
    "    upper_bound = qbeta(1 - (1 - confidence_level) / 2, alpha+y, beta+n-y)\n",
    "\n",
    "    N = 10000\n",
    "    thetas.post = rbeta(N,alpha+y,beta+n-y)\n",
    "    gamma<-0.95\n",
    "    Sim.MAP = MAP\n",
    "    Sim.gamma<-function(t){sum((Sim.MAP-t<=thetas.post)&(thetas.post<=Sim.MAP+t))/length(thetas.post)-gamma}\n",
    "    G.t<-uniroot(Sim.gamma,c(0,10))\n",
    "    Sim.t<-G.t$root\n",
    "    centered_conf = c(max(0,Sim.MAP-Sim.t),min(1,Sim.MAP+Sim.t))\n",
    "\n",
    "    median = qbeta(0.5, alpha+y, beta+n-y)\n",
    "\n",
    "    cat(nu, \"\\t\", sum, \"\\t\", alpha, \"\\t\", beta, \"\\t\", MAP, \"\\t\", pee, \"\\t\", median, \"\\t\", \"[\", centered_conf[1], \",\", centered_conf[2], \"]\",\"\\t\",centered_conf[2]-centered_conf[1],\"\\t\",\"[\", lower_bound, \",\", upper_bound, \"]\\t\",upper_bound-lower_bound ,\" \\n\")\n",
    "}"
   ]
  },
  {
   "cell_type": "markdown",
   "id": "f5e4ca53",
   "metadata": {
    "id": "3s7YdhyE3_fa"
   },
   "source": [
    "One could think the first approach for the confidence intervals is better as the intervals are more narrow, however we think the second one is better as it shows the asimetry of the function."
   ]
  },
  {
   "cell_type": "markdown",
   "id": "514f663a",
   "metadata": {
    "id": "p1IzeQsk4ma6"
   },
   "source": [
    "For the next part, we are going to find the values $\\alpha_0$ and $\\beta_0$ that share the same expectation and variance than the piecewise linear nonconjugate prior and compare them"
   ]
  },
  {
   "cell_type": "markdown",
   "id": "d5f12738",
   "metadata": {
    "id": "Ob8ozLB_dls-"
   },
   "source": [
    "The picewise linear funtion is defined as:\n",
    "\n",
    "$$\n",
    "    h(t)=\\left\\{\n",
    "    \\begin{array}{lcl}\n",
    "         a,        &\\text{ for }  &0<t<m-c \\quad\\text{and } m+c<t<1,\\\\\n",
    "         A+b\\cdot t/c,  &\\text{ for }  &t\\in [m-c,c],\\\\\n",
    "         B-b\\cdot t/c   &\\text{ for }  &t\\in [c,m+c],\\\\\n",
    "    \\end{array}\n",
    "    \\right.\\mskip80mu t \\in[0,1]\n",
    "$$\n",
    "\n",
    "where $a=0.50$, $b=5.00$ is the height of the central triangle ($a+b$ is the peak ordinate), $A=a+b-(b\\cdot m)/c$,\n",
    "$B<-a+b+(b\\cdot m)/c$."
   ]
  },
  {
   "cell_type": "code",
   "execution_count": 4,
   "id": "12186e56",
   "metadata": {
    "executionInfo": {
     "elapsed": 417,
     "status": "ok",
     "timestamp": 1713184588162,
     "user": {
      "displayName": "joel dvd",
      "userId": "11259257486526231607"
     },
     "user_tz": -120
    },
    "id": "ROGtEpNSz5Fs"
   },
   "outputs": [],
   "source": [
    "# Definition of the piecewise linear nonconjugate prior\n",
    "\n",
    "m<-0.485\n",
    "c<-0.100\n",
    "p.tails<-0.4\n",
    "a<-0.5\n",
    "b<-5.0\n",
    "A<-a+b-(b*m)/c\n",
    "B<-a+b+(b*m)/c\n",
    "h<-function(t){return(a*(t>=0)*(t<m-c)+a*(t>m+c)*(t<=1)+(A+b*t/c)*(t>m-c)*(t<m)+(B-b*t/c)*(t>m)*(t<m+c))}"
   ]
  },
  {
   "cell_type": "markdown",
   "id": "fc3727ab",
   "metadata": {
    "id": "kOTbXt15UgM6"
   },
   "source": [
    "And has the following momentums:\n",
    "\n",
    "* $\\mathbb{E}[t]\n",
    "=\\displaystyle\\int h(t)\\cdot t \\,dt\n",
    "=\\int_0^{m-c} at\\,dt+\\int_{m-c}^{m}(A+b\\cdot \\frac{t}{c})t\\,dt+\\int_{m}^{m+c} (B-b\\cdot \\frac{t}{c})t\\,dt+\\int_{m+c}^{1} at\\,dt = \\\\\n",
    "= \\frac{1}{6c} \\left( 3ac \\cdot (m-c)^2 + 3cA \\cdot (m^2-(m-c)^2) + 2b \\cdot (m^3-(m-c)^3) + 3cB \\cdot ((m+c)^2-m^2) - 2b \\cdot ((m+c)^3 - m^3) + 3ac \\cdot (1 - (m+c)^2) \\right)\n",
    "= 0.4925$\n",
    "\n",
    "* $\\mathbb{V}[t]\n",
    "=\\mathbb{E}[(t-\\mathbb{E}[t])^2]\n",
    "= \\mathbb{E}[t^2]-\\mathbb{E}[t]^2\n",
    "= \\displaystyle\\int h(t^2)\\cdot t\\,dt -\\mathbb{E}[t]^2\n",
    "=\\int_0^{m-c} at\\,dt+\\int_{m-c}^{m}(A+b\\cdot \\frac{t^2}{c})t\\,dt+\\int_{m}^{m+c} (B-b\\cdot \\frac{t^2}{c})t\\,dt+\\int_{m+c}^{1} at\\,dt = \\\\\n",
    "= \\frac{a}{3} \\left(1 + (m - c)^3 - (m + c)^3\\right) + \\frac{A}{3} \\left(m^3 - (m - c)^3\\right) + \\frac{b}{4c} \\left(m^4 - (m - c)^4\\right) + \\frac{B}{3} \\left((m + c)^3 - m^3\\right) - \\frac{b}{4c} \\left((m + c)^4 - m^4\\right) - \\mathbb{E}^2\n",
    "= 0.04255625\n",
    "$"
   ]
  },
  {
   "cell_type": "code",
   "execution_count": 5,
   "id": "e9eefc57",
   "metadata": {
    "colab": {
     "base_uri": "https://localhost:8080/"
    },
    "executionInfo": {
     "elapsed": 1,
     "status": "ok",
     "timestamp": 1713184588604,
     "user": {
      "displayName": "joel dvd",
      "userId": "11259257486526231607"
     },
     "user_tz": -120
    },
    "id": "rsGNAv0SFqwL",
    "outputId": "86ec738d-6acf-4693-cca9-9053f74fa31d"
   },
   "outputs": [
    {
     "name": "stdout",
     "output_type": "stream",
     "text": [
      "expectation = 0.4925 \n"
     ]
    }
   ],
   "source": [
    "# Expectation\n",
    "expectation = 1/(6*c) * ( a*3*c*(m-c)^2 + A*3*c*(m^2-(m-c)^2) + 2*b*(m^3-(m-c)^3) + 3*c*B*((m+c)^2-m^2) - 2*b*((m+c)^3 - m^3) + a*3*c*(1 - (m+c)^2) )\n",
    "cat(\"expectation =\", expectation, \"\\n\")"
   ]
  },
  {
   "cell_type": "code",
   "execution_count": 6,
   "id": "ecafbd04",
   "metadata": {
    "colab": {
     "base_uri": "https://localhost:8080/",
     "height": 34
    },
    "executionInfo": {
     "elapsed": 4,
     "status": "ok",
     "timestamp": 1713184589118,
     "user": {
      "displayName": "joel dvd",
      "userId": "11259257486526231607"
     },
     "user_tz": -120
    },
    "id": "RmcmvTSA9gJw",
    "outputId": "c97042ec-c30b-4cdc-9d27-42deeb486f54"
   },
   "outputs": [
    {
     "data": {
      "text/plain": [
       "0.4924999 with absolute error < 1e-04"
      ]
     },
     "metadata": {},
     "output_type": "display_data"
    }
   ],
   "source": [
    "# Another way to calculate expectation\n",
    "h2 = function(t){h(t)*t}\n",
    "integrate(h2, lower=0, upper=1)"
   ]
  },
  {
   "cell_type": "code",
   "execution_count": 7,
   "id": "82f3fae5",
   "metadata": {
    "colab": {
     "base_uri": "https://localhost:8080/"
    },
    "executionInfo": {
     "elapsed": 3,
     "status": "ok",
     "timestamp": 1713184589118,
     "user": {
      "displayName": "joel dvd",
      "userId": "11259257486526231607"
     },
     "user_tz": -120
    },
    "id": "Zja2aCqDHVN6",
    "outputId": "8f1a29bb-06f9-46ed-9f30-96eedb1e6cb8"
   },
   "outputs": [
    {
     "name": "stdout",
     "output_type": "stream",
     "text": [
      "var = 0.04255625 \n"
     ]
    }
   ],
   "source": [
    "# Variance\n",
    "var = a/3*(1+(m-c)^3-(m+c)^3) + A/3*(m^3-(m-c)^3) + b/4/c*(m^4-(m-c)^4) + B/3*((m+c)^3 - m^3) - b/4/c*((m+c)^4-m^4) - expectation^2\n",
    "cat(\"var =\", var, \"\\n\")"
   ]
  },
  {
   "cell_type": "code",
   "execution_count": 8,
   "id": "6aa83f43",
   "metadata": {
    "colab": {
     "base_uri": "https://localhost:8080/",
     "height": 34
    },
    "executionInfo": {
     "elapsed": 4,
     "status": "ok",
     "timestamp": 1713184589551,
     "user": {
      "displayName": "joel dvd",
      "userId": "11259257486526231607"
     },
     "user_tz": -120
    },
    "id": "JBA-YlAy9jKy",
    "outputId": "04a2a576-733f-4487-a6f4-0f3a70960d6e"
   },
   "outputs": [
    {
     "data": {
      "text/plain": [
       "0.04255771 with absolute error < 1.8e-05"
      ]
     },
     "metadata": {},
     "output_type": "display_data"
    }
   ],
   "source": [
    "# Another way to calculate var\n",
    "h3 = function(t){((t - expectation)^2)*h(t)}\n",
    "integrate(h3, lower=0, upper=1)"
   ]
  },
  {
   "cell_type": "markdown",
   "id": "0801d817",
   "metadata": {
    "id": "MOJwtNd_WuR3"
   },
   "source": [
    "To get the proper alpha and beta values, we can use the following properties of the beta function:\n",
    "\n",
    "Expectation: $\\quad \\mu = \\frac{\\alpha}{\\alpha + \\beta} $\n",
    "\n",
    "Variance: $\\quad \\sigma^2 = \\frac{\\alpha \\cdot \\beta}{(\\alpha + \\beta)^2 \\cdot (\\alpha + \\beta + 1)}$\n",
    "\n",
    "Then: $x=α+β$; $\\quad α=\\mu x$ ; $\\quad β=(1-\\mu)x$\n",
    "$\\Rightarrow \\quad \\sigma^2 = \\frac{\\mu(1-\\mu) x^2}{x^2 \\cdot (x + 1)}=\\frac{\\mu(1-\\mu)}{x+1} \\quad \\Rightarrow \\quad x = \\frac{\\mu - \\mu^2 - \\sigma^2}{\\sigma^2}$\n"
   ]
  },
  {
   "cell_type": "code",
   "execution_count": 9,
   "id": "d3c71ac8",
   "metadata": {
    "colab": {
     "base_uri": "https://localhost:8080/"
    },
    "executionInfo": {
     "elapsed": 8,
     "status": "ok",
     "timestamp": 1713184590239,
     "user": {
      "displayName": "joel dvd",
      "userId": "11259257486526231607"
     },
     "user_tz": -120
    },
    "id": "wzdcr36SWuyG",
    "outputId": "ce53bd9c-0ba8-4f6c-c4f7-3a7170759ad5"
   },
   "outputs": [
    {
     "name": "stdout",
     "output_type": "stream",
     "text": [
      "sum =  4.873256 \n",
      "a_0 = 2.400079 \n",
      "b_0 = 2.473177 \n"
     ]
    }
   ],
   "source": [
    "sum = (expectation - expectation^2 - var) / var\n",
    "\n",
    "cat(\"sum = \", sum, \"\\n\")\n",
    "\n",
    "alpha0 = expectation * sum\n",
    "beta0 = sum - alpha0\n",
    "\n",
    "cat(\"a_0 =\", alpha0, \"\\n\")\n",
    "cat(\"b_0 =\", beta0, \"\\n\")"
   ]
  },
  {
   "cell_type": "code",
   "execution_count": 10,
   "id": "5f8e889d",
   "metadata": {
    "colab": {
     "base_uri": "https://localhost:8080/",
     "height": 274
    },
    "executionInfo": {
     "elapsed": 6,
     "status": "ok",
     "timestamp": 1713184590239,
     "user": {
      "displayName": "joel dvd",
      "userId": "11259257486526231607"
     },
     "user_tz": -120
    },
    "id": "ixFez0wSNV87",
    "outputId": "f28d13c4-60b2-41be-b1f2-4836030f185f"
   },
   "outputs": [
    {
     "name": "stdout",
     "output_type": "stream",
     "text": [
      "Graphics for values: alpha_0 = 2.400079 , beta_0 =  2.473177 \n"
     ]
    },
    {
     "data": {
      "image/png": "[encoded data removed]",
      "text/plain": [
       "Plot with title \"Male to female sex ratio\""
      ]
     },
     "metadata": {
      "image/png": {
       "height": 240,
       "width": 600
      }
     },
     "output_type": "display_data"
    }
   ],
   "source": [
    "N = 10000\n",
    "n = 980\n",
    "y = 437\n",
    "samples = rbeta(N,alpha0+y,beta0+n-y)\n",
    "par(mfrow = c(1, 3), mar = c(5, 4, 4, 2))\n",
    "options(repr.plot.width=10, repr.plot.height=4)\n",
    "hist(samples, breaks=45, freq=FALSE, main=\"Theta samples\")\n",
    "hist(log(samples), breaks=45, freq=FALSE, main=\"Log theta\")\n",
    "hist((1-samples)/samples, breaks=45, freq=FALSE, main=\"Male to female sex ratio\")\n",
    "cat(\"Graphics for values: alpha_0 =\", alpha0, \", beta_0 = \", beta0, \"\\n\")"
   ]
  },
  {
   "cell_type": "code",
   "execution_count": 11,
   "id": "7a90d1d7",
   "metadata": {
    "colab": {
     "base_uri": "https://localhost:8080/"
    },
    "executionInfo": {
     "elapsed": 1,
     "status": "ok",
     "timestamp": 1713184590605,
     "user": {
      "displayName": "joel dvd",
      "userId": "11259257486526231607"
     },
     "user_tz": -120
    },
    "id": "yCb0vNjv9qOI",
    "outputId": "d0e1a36d-c462-439e-bf40-ad3ac9bf4a46"
   },
   "outputs": [
    {
     "name": "stdout",
     "output_type": "stream",
     "text": [
      "alpha0\t\tbeta0\t\tMAP\t\tPEE\t\tmedian\t\tCentered conf. int.\t\tCCI length\tconfidence interval\t\tCI lenght\n",
      "2.400079 \t 2.473177 \t 0.4460393 \t 0.4461489 \t 0.4461124 \t [ 0.4147548 , 0.4773238 ] \t 0.06256899 \t [ 0.4152298 , 0.4772751 ]\t 0.06204534  \n"
     ]
    }
   ],
   "source": [
    "n = 980\n",
    "y = 437\n",
    "\n",
    "cat('alpha0\\t\\tbeta0\\t\\tMAP\\t\\tPEE\\t\\tmedian\\t\\tCentered conf. int.\\t\\tCCI length\\tconfidence interval\\t\\tCI lenght\\n')\n",
    "\n",
    "MAP = (alpha0 + y - 1) / (sum + n - 2)\n",
    "pee = (alpha0 + y) / (alpha0 + beta0 + n)\n",
    "\n",
    "confidence_level = 0.95\n",
    "lower_bound = qbeta((1 - confidence_level) / 2, alpha0+y, beta0+n-y)\n",
    "upper_bound = qbeta(1 - (1 - confidence_level) / 2, alpha0+y, beta0+n-y)\n",
    "\n",
    "N = 10000\n",
    "thetas.post = rbeta(N,alpha0+y,beta0+n-y)\n",
    "gamma<-0.95\n",
    "Sim.MAP = MAP\n",
    "Sim.gamma<-function(t){sum((Sim.MAP-t<=thetas.post)&(thetas.post<=Sim.MAP+t))/length(thetas.post)-gamma}\n",
    "G.t<-uniroot(Sim.gamma,c(0,10))\n",
    "Sim.t<-G.t$root\n",
    "centered_conf = c(max(0,Sim.MAP-Sim.t),min(1,Sim.MAP+Sim.t))\n",
    "\n",
    "median = qbeta(0.5, alpha0+y, beta0+n-y)\n",
    "\n",
    "cat(alpha0, \"\\t\", beta0, \"\\t\", MAP, \"\\t\", pee, \"\\t\", median, \"\\t\", \"[\", centered_conf[1], \",\", centered_conf[2], \"]\",\"\\t\",centered_conf[2]-centered_conf[1],\"\\t\",\"[\", lower_bound, \",\", upper_bound, \"]\\t\",upper_bound-lower_bound ,\" \\n\")"
   ]
  },
  {
   "cell_type": "markdown",
   "id": "a76a8e29",
   "metadata": {
    "id": "XFlSn5-Txo3f"
   },
   "source": [
    "Now, let's compare the posterior quantities with both priors. The calculation of the function in explained in detail in 1.3."
   ]
  },
  {
   "cell_type": "code",
   "execution_count": 12,
   "id": "13ec3422",
   "metadata": {
    "executionInfo": {
     "elapsed": 1,
     "status": "ok",
     "timestamp": 1713184590605,
     "user": {
      "displayName": "joel dvd",
      "userId": "11259257486526231607"
     },
     "user_tz": -120
    },
    "id": "-hobpjTIRYt6"
   },
   "outputs": [],
   "source": [
    "# Let's compare the posterior quantities with both priors.\n",
    "N = 1000\n",
    "n = 980\n",
    "y = 437\n",
    "t<-seq(0,1,length=N)\n",
    "t<-t[-N]\n",
    "\n",
    "# piecewise linear nonconjugate prior has the following posterior:\n",
    "# We will use the logarithmic approach\n",
    "# Discretize, add the results and normalize it\n",
    "LogLik<-function(y,theta,n){y*log(theta)+(n-y)*log(1-theta)}\n",
    "log.nnpost<-LogLik(y,t,n)+log(h(t))\n",
    "nnpost<-exp(log.nnpost)\n",
    "dpost<-nnpost/sum(nnpost)"
   ]
  },
  {
   "cell_type": "code",
   "execution_count": 13,
   "id": "9c726125",
   "metadata": {
    "colab": {
     "base_uri": "https://localhost:8080/",
     "height": 437
    },
    "executionInfo": {
     "elapsed": 517,
     "status": "ok",
     "timestamp": 1713184657255,
     "user": {
      "displayName": "joel dvd",
      "userId": "11259257486526231607"
     },
     "user_tz": -120
    },
    "id": "mGZnwyG1Wp76",
    "outputId": "6ac7c011-1a51-4f05-f06f-0f415e0d27fb"
   },
   "outputs": [
    {
     "data": {
      "image/png": "[encoded data removed]",
      "text/plain": [
       "Plot with title \"Beta posterior pdf\""
      ]
     },
     "metadata": {
      "image/png": {
       "height": 420,
       "width": 840
      }
     },
     "output_type": "display_data"
    }
   ],
   "source": [
    "## Let's visualize it\n",
    "options(repr.plot.width=14,repr.plot.height=7)\n",
    "old.par<-par(mfrow=c(1,2))\n",
    "# Piecewise nonconjugate posterior\n",
    "plot(t,dpost,\"l\",lwd=2.5,col=\"blue\",xlim=c(0,1),ylim=c(0,0.05),ylab=\"\",main=\"Piecewise linear nonconjugate posterior pmf\")\n",
    "abline(h=0,lwd=2,col=\"black\")\n",
    "abline(v=m,lwd=2,col=\"green\")\n",
    "abline(h=a+b,lwd=2,col=\"green\")\n",
    "lines(t,dpost,lwd=2.5,col=\"blue\")\n",
    "text(-0.01,a+b-0.15,\"a+b\")\n",
    "text(-0.01,a+0.15,\"a\")\n",
    "text(m,-0.15,\"m\")\n",
    "text(m-c-0.01,-0.15,\"m-c\")\n",
    "text(m+c-0.01,-0.15,\"m+c\")\n",
    "# Beta posterior\n",
    "samples = dbeta(t,alpha0+y,beta0+n-y)\n",
    "plot(t,samples,\"l\",lwd=2.5,col=\"blue\",xlim=c(0,1),ylim=c(0,50),ylab=\"\",main=\"Beta posterior pdf\")\n",
    "abline(h=0,lwd=2,col=\"black\")\n",
    "abline(v=m,lwd=2,col=\"green\")\n",
    "lines(t,samples,lwd=2.5,col=\"blue\")\n",
    "text(-0.01,a+b-0.15,\"a+b\")\n",
    "text(-0.01,a+0.15,\"a\")\n",
    "text(m,-0.15,\"m\")\n",
    "text(m-c-0.01,-0.15,\"m-c\")\n",
    "text(m+c-0.01,-0.15,\"m+c\")"
   ]
  },
  {
   "cell_type": "markdown",
   "id": "f75fa809",
   "metadata": {},
   "source": [
    "Both posteriors look very similar. The main difference comes from the scale of the values, while the pmf is a probability and all values are between 0 and 1 and they add to 1, the pdf is not and has much bigger values."
   ]
  },
  {
   "cell_type": "markdown",
   "id": "8f536c0c",
   "metadata": {
    "id": "dYdZMpaxZ4tI"
   },
   "source": [
    "## Answer 1.2"
   ]
  },
  {
   "cell_type": "markdown",
   "id": "53b5ba20",
   "metadata": {
    "id": "0R0M1bosw4hQ"
   },
   "source": [
    "#### 1.2.1 Sampling the prior with the inverse cdf method:"
   ]
  },
  {
   "cell_type": "code",
   "execution_count": 14,
   "id": "e07afbb8",
   "metadata": {
    "id": "NBu5syTaxz40"
   },
   "outputs": [],
   "source": [
    "#Inverse function\n",
    "inverse <- function(f, lower = 0., upper = 1.) {\n",
    "   return(function(y){\n",
    "     root <-uniroot(function(x){f(x) - y}, lower = lower, upper = upper)$root\n",
    "     return(root)\n",
    "   })\n",
    "}\n",
    "\n",
    "#Definition of the cdf for h\n",
    "H = function(x){\n",
    "  return(integrate(h, lower = 0, upper = x)$value)\n",
    "}\n",
    "\n",
    "#Applying the inverse cdf for N unif. distributed samples between 0 and 1\n",
    "#we map values from 0 to 1 to values distributed as the picewise linear prior\n",
    "rh_inv.cdf = function(N){\n",
    "    F_inv = inverse(H)\n",
    "    output = c()\n",
    "    X = runif(N, min = 0, max = 1)\n",
    "    for (x in X){\n",
    "        output = append(output, F_inv(x))\n",
    "    }\n",
    "    return(output)\n",
    "}\n",
    "N = 10000\n",
    "pl.sim.thetas = rh_inv.cdf(N)"
   ]
  },
  {
   "cell_type": "code",
   "execution_count": 15,
   "id": "372057a1",
   "metadata": {
    "colab": {
     "base_uri": "https://localhost:8080/",
     "height": 437
    },
    "executionInfo": {
     "elapsed": 27,
     "status": "ok",
     "timestamp": 1713022894172,
     "user": {
      "displayName": "Alejandro Astruc Lopez",
      "userId": "15785364370750752569"
     },
     "user_tz": -120
    },
    "id": "YsEuFaRPxUBa",
    "outputId": "ea60a85b-cfc6-48de-efb9-d87b293fb30b"
   },
   "outputs": [
    {
     "data": {
      "image/png": "[encoded data removed]",
      "text/plain": [
       "Plot with title \"Histogram of pl.sim.thetas\""
      ]
     },
     "metadata": {
      "image/png": {
       "height": 420,
       "width": 840
      }
     },
     "output_type": "display_data"
    }
   ],
   "source": [
    "hist(pl.sim.thetas, breaks=60, freq=FALSE)\n",
    "x <- seq(0, 1, length.out = 100)\n",
    "lines(x, h(x),col = \"red\", lwd = 2)"
   ]
  },
  {
   "cell_type": "code",
   "execution_count": 16,
   "id": "f1a341f8",
   "metadata": {
    "colab": {
     "base_uri": "https://localhost:8080/",
     "height": 509
    },
    "executionInfo": {
     "elapsed": 443,
     "status": "ok",
     "timestamp": 1713022894590,
     "user": {
      "displayName": "Alejandro Astruc Lopez",
      "userId": "15785364370750752569"
     },
     "user_tz": -120
    },
    "id": "2Pw3NqMLzUP9",
    "outputId": "f8184ac9-f575-4401-a21a-83bd470fde10"
   },
   "outputs": [
    {
     "name": "stdout",
     "output_type": "stream",
     "text": [
      "[1] \"Median: 475\"\n",
      "[1] \"Mode: 477\"\n",
      "[1] \"Expectation (Mean): 478.5617\"\n",
      "[1] \"Standard Deviation: 202.338894174896\"\n"
     ]
    },
    {
     "data": {
      "image/png": "[encoded data removed]",
      "text/plain": [
       "Plot with title \"Histogram of y.sim\""
      ]
     },
     "metadata": {
      "image/png": {
       "height": 420,
       "width": 840
      }
     },
     "output_type": "display_data"
    }
   ],
   "source": [
    "#Sampling from the prior predictive\n",
    "y.sim = rbinom(N, size = n, prob=pl.sim.thetas)\n",
    "hist(y.sim, breaks=40)\n",
    "\n",
    "# Plot histogram of original data\n",
    "#hist(y.sim, breaks = 5, col = \"lightblue\", main = \"Histogram\", xlab = \"Value\", ylab = \"Density\",freq=FALSE)\n",
    "\n",
    "# Calculate statistics\n",
    "mode <- function(x) {\n",
    "  ux <- unique(x)\n",
    "  ux[which.max(tabulate(match(x, ux)))]\n",
    "}\n",
    "median_value <- median(y.sim)\n",
    "mean_value <- mean(y.sim)\n",
    "mode_value <- mode(y.sim)\n",
    "sd_value <- sd(y.sim)\n",
    "\n",
    "# Plot vertical lines for statistics\n",
    "abline(v = median_value, col = \"red\", lty = 2)\n",
    "abline(v = mean_value, col = \"blue\", lty = 2)\n",
    "abline(v = mode_value, col = \"green\", lty = 2)\n",
    "abline(v = mean_value - sd_value, col = \"orange\", lty = 2)\n",
    "abline(v = mean_value + sd_value, col = \"orange\", lty = 2)\n",
    "\n",
    "# Add legend\n",
    "legend(\"topright\", legend = c(\"Median\", \"Mean\", \"Mode\", \"Mean +/- SD\"), col = c(\"red\", \"blue\", \"green\", \"orange\"), lty = 2, bty = \"n\")\n",
    "\n",
    "# Print results\n",
    "print(paste(\"Median:\", median_value))\n",
    "print(paste(\"Mode:\", mode_value))\n",
    "print(paste(\"Expectation (Mean):\", mean_value))\n",
    "print(paste(\"Standard Deviation:\", sd_value))"
   ]
  },
  {
   "cell_type": "markdown",
   "id": "f562f98e",
   "metadata": {
    "id": "Y1Z_spDaxRH6"
   },
   "source": [
    "#### 1.2.2 :  Sampling from the discretization of the prior:"
   ]
  },
  {
   "cell_type": "code",
   "execution_count": 17,
   "id": "a924bc74",
   "metadata": {
    "id": "dzg3sHohEXNr"
   },
   "outputs": [],
   "source": [
    "N<-10000 # number of grid intervals\n",
    "t<-seq(0,1,length=N)\n",
    "t<-t[-N]# remove last point (equal to 1: we want N intervals)\n",
    "\n",
    "# Sample from the discrete custom distribution\n",
    "pl.sim.thetas <- sample(t, size = N, replace = TRUE, prob = h(t))"
   ]
  },
  {
   "cell_type": "code",
   "execution_count": 18,
   "id": "d5c258f4",
   "metadata": {
    "colab": {
     "base_uri": "https://localhost:8080/",
     "height": 437
    },
    "executionInfo": {
     "elapsed": 437,
     "status": "ok",
     "timestamp": 1713024247494,
     "user": {
      "displayName": "Alejandro Astruc Lopez",
      "userId": "15785364370750752569"
     },
     "user_tz": -120
    },
    "id": "oA81ONmyMzbd",
    "outputId": "0dac348a-cc6c-40d2-f42f-94b61b6bc8c9"
   },
   "outputs": [
    {
     "data": {
      "image/png": "[encoded data removed]",
      "text/plain": [
       "Plot with title \"Histogram of pl.sim.thetas\""
      ]
     },
     "metadata": {
      "image/png": {
       "height": 420,
       "width": 840
      }
     },
     "output_type": "display_data"
    }
   ],
   "source": [
    "hist(pl.sim.thetas, breaks=60, freq=FALSE)\n",
    "x <- seq(0, 1, length.out = 100)\n",
    "lines(x, h(x),col = \"red\", lwd = 2)"
   ]
  },
  {
   "cell_type": "code",
   "execution_count": 19,
   "id": "c4149b21",
   "metadata": {
    "colab": {
     "base_uri": "https://localhost:8080/",
     "height": 509
    },
    "executionInfo": {
     "elapsed": 447,
     "status": "ok",
     "timestamp": 1713024247937,
     "user": {
      "displayName": "Alejandro Astruc Lopez",
      "userId": "15785364370750752569"
     },
     "user_tz": -120
    },
    "id": "8v11ehgoGX8X",
    "outputId": "5261d4c7-7192-4936-be04-4ab1be3e604c"
   },
   "outputs": [
    {
     "name": "stdout",
     "output_type": "stream",
     "text": [
      "[1] \"Median: 475\"\n",
      "[1] \"Mode: 488\"\n",
      "[1] \"Expectation (Mean): 479.071\"\n",
      "[1] \"Standard Deviation: 202.88527448403\"\n"
     ]
    },
    {
     "data": {
      "image/png": "[encoded data removed]",
      "text/plain": [
       "Plot with title \"Histogram of y.sim\""
      ]
     },
     "metadata": {
      "image/png": {
       "height": 420,
       "width": 840
      }
     },
     "output_type": "display_data"
    }
   ],
   "source": [
    "y.sim = rbinom(N, size = n, prob=pl.sim.thetas)\n",
    "hist(y.sim, breaks=40)\n",
    "\n",
    "median_value <- median(y.sim)\n",
    "mean_value <- mean(y.sim)\n",
    "mode_value <- mode(y.sim)\n",
    "sd_value <- sd(y.sim)\n",
    "\n",
    "# Plot vertical lines for statistics\n",
    "abline(v = median_value, col = \"red\", lty = 2)\n",
    "abline(v = mean_value, col = \"blue\", lty = 2)\n",
    "abline(v = mode_value, col = \"green\", lty = 2)\n",
    "abline(v = mean_value - sd_value, col = \"orange\", lty = 2)\n",
    "abline(v = mean_value + sd_value, col = \"orange\", lty = 2)\n",
    "\n",
    "# Add legend\n",
    "legend(\"topright\", legend = c(\"Median\", \"Mean\", \"Mode\", \"Mean +/- SD\"), col = c(\"red\", \"blue\", \"green\", \"orange\"), lty = 2, bty = \"n\")\n",
    "\n",
    "# Print results\n",
    "print(paste(\"Median:\", median_value))\n",
    "print(paste(\"Mode:\", mode_value))\n",
    "print(paste(\"Expectation (Mean):\", mean_value))\n",
    "print(paste(\"Standard Deviation:\", sd_value))"
   ]
  },
  {
   "cell_type": "markdown",
   "id": "29466592",
   "metadata": {
    "id": "vEozhxkGI-j_"
   },
   "source": [
    "### 1.2.3 Comparison with the resulst from the $\\textrm{Beta}(\\alpha_0,\\beta_0)$ prior:"
   ]
  },
  {
   "cell_type": "code",
   "execution_count": 20,
   "id": "a3f3df5f",
   "metadata": {},
   "outputs": [],
   "source": [
    " #Defining the beta binomial distribution prior distribution\n",
    " dbb = function(x,N,u,v){\n",
    "  return(choose(N,x)*beta(x+u,N-x+v)/beta(u,v))\n",
    " }"
   ]
  },
  {
   "cell_type": "code",
   "execution_count": 21,
   "id": "6c304a98",
   "metadata": {
    "id": "_9qRgzMLJQU8"
   },
   "outputs": [],
   "source": [
    "x_values <- 0:n\n",
    "pmf <- dbb(x_values, n, alpha0, beta0)"
   ]
  },
  {
   "cell_type": "code",
   "execution_count": 22,
   "id": "5336f9db",
   "metadata": {
    "colab": {
     "base_uri": "https://localhost:8080/",
     "height": 329
    },
    "executionInfo": {
     "elapsed": 428,
     "status": "ok",
     "timestamp": 1713109002375,
     "user": {
      "displayName": "Alejandro Astruc Lopez",
      "userId": "15785364370750752569"
     },
     "user_tz": -120
    },
    "id": "Q37A1ddGLRaw",
    "outputId": "35cd7c46-9256-4719-f33a-b4647b6825c8"
   },
   "outputs": [
    {
     "name": "stdout",
     "output_type": "stream",
     "text": [
      "[1] \"Median: 482\"\n",
      "[1] \"Mode: 478\"\n",
      "[1] \"Expectation (Mean): 482.650000000011\"\n",
      "[1] \"Standard Deviation: 202.667861907113\"\n"
     ]
    },
    {
     "data": {
      "image/png": "[encoded data removed]",
      "text/plain": [
       "Plot with title \"Beta-Binomial Distribution\""
      ]
     },
     "metadata": {
      "image/png": {
       "height": 420,
       "width": 840
      }
     },
     "output_type": "display_data"
    }
   ],
   "source": [
    "plot(x_values, pmf, col = \"blue\",\n",
    "     main = \"Beta-Binomial Distribution\", xlab = \"y\", ylab = \"Probability\")\n",
    "\n",
    "# Calculate statistics\n",
    "mean_value <- sum(x_values * pmf)\n",
    "cumulative_probabilities <- cumsum(pmf)\n",
    "median_value <- findInterval(.5, cumulative_probabilities)\n",
    "mode_value <- x_values[which.max(pmf)]\n",
    "sd_value <- sqrt(sum(pmf * (x_values - mean_value)^2))\n",
    "\n",
    "# Plot vertical lines for statistics\n",
    "abline(v = median_value, col = \"red\", lty = 2)\n",
    "abline(v = mean_value, col = \"blue\", lty = 2)\n",
    "abline(v = mode_value, col = \"green\", lty = 2)\n",
    "abline(v = mean_value - sd_value, col = \"orange\", lty = 2)\n",
    "abline(v = mean_value + sd_value, col = \"orange\", lty = 2)\n",
    "\n",
    "# Add legend\n",
    "legend(\"topright\", legend = c(\"Median\", \"Mean\", \"Mode\", \"Mean +/- SD\"), col = c(\"red\", \"blue\", \"green\", \"orange\"), lty = 2, bty = \"n\")\n",
    "\n",
    "# Print results\n",
    "print(paste(\"Median:\", median_value))\n",
    "print(paste(\"Mode:\", mode_value))\n",
    "print(paste(\"Expectation (Mean):\", mean_value))\n",
    "print(paste(\"Standard Deviation:\", sd_value))"
   ]
  },
  {
   "cell_type": "markdown",
   "id": "9b1054ac",
   "metadata": {
    "id": "Zp9nf98wQ37-"
   },
   "source": [
    "Comparing this distribution with the previously obtained for the picewise linear prior, the different statistics are similar. Now the posterior predictive is smoother and has a more evenly distributed area, leaving the extreme cases, i.e., tails, with much lower probabilities than the picewise linear."
   ]
  },
  {
   "cell_type": "markdown",
   "id": "85a0e4a3",
   "metadata": {
    "id": "9GXAw72dZ5D8"
   },
   "source": [
    "## Answer 1.3"
   ]
  },
  {
   "cell_type": "markdown",
   "id": "f126de7a",
   "metadata": {
    "id": "tGe9XWW7CuP9"
   },
   "source": [
    "To compute the posterior predictive, we will follow the steps found in the notebook `Binomial.3.Placenta.previa.pub.ipynb`. Next, we explain all the steps that we will follow to find the posterior predictive function.\n",
    "\n",
    "1. Our non-conjugate **prior function** is the following:\n",
    "$$\n",
    "    h(t)=\\left\\{\n",
    "    \\begin{array}{lcl}\n",
    "         a,        &\\text{ for }  &0<t<m-c \\quad\\text{and } m+c<t<1,\\\\\n",
    "         A+b\\cdot t/c,  &\\text{ for }  &t\\in [m-c,c],\\\\\n",
    "         B-b\\cdot t/c   &\\text{ for }  &t\\in [c,m+c],\\\\\n",
    "    \\end{array}\n",
    "    \\right.\\mskip80mu t \\in[0,1]\n",
    "$$\n",
    "\n",
    "where $a=0.50$, $b=5.00$ is the height of the central triangle ($a+b$ is the peak ordinate), $A=a+b-(b\\cdot m)/c$,\n",
    "$B<-a+b+(b\\cdot m)/c$. We know that this distribution is centered at $m=0.485$ (i.e., $\\theta_1$, the percentatge of female births in the population) and 40% of the probability mass is outside the interval [m-c,m+c]=[0.385,0.585], c=0.100.\n",
    "\n",
    "To be able to sample from this distribution $h(t)$, we will construct a discretization of $h(t)$. We construct a grid of $N$ points $\\mathbf{t}=(t_1,\\dots,t_{N})$ on the interval $[0,1]$. On each interval $[t_{i},t_{i+1}]$, $1\\leq i\\leq N-1$, the probability from the prior pdf, the integral of $h(t)$ on it, is approximated by the rectangle area $h(t_i)\\cdot\\delta$, where $\\delta=1/N$. The discrete r.v. defined by both vectors: values $\\mathbf{t}$ and probabilities $h(\\mathbf{t})\\cdot \\delta$ is a _discretization_ of the continuous r.v. with pdf $h$, a reasonable approximation by a discrete distribution of the given continuous probability distribution. We proceed with this discrete random variable.\n",
    "\n",
    "\n",
    "\n",
    "2. Our **likelihood function** is the Binomial one:\n",
    "$$\n",
    "    f(x|\\theta)=\\theta^{x}\\cdot(1-\\theta)^{(n-x)}$$\n",
    "But we will use the Log-likelihood in computations to avoid products of very large and very small quantities. That is:\n",
    "$f(x|\\theta)=x\\log(\\theta)+(n-x)\\log(1-\\theta)$\n",
    "\n",
    "\n",
    "We know that to calculate the **posterior** distribution $p(\\theta \\mid x)$ we need to find\n",
    "$$p(\\theta \\mid x) = \\frac{p(\\theta)p(x \\mid \\theta)}{p(x)}$$\n",
    "\n",
    "where $p(x \\mid \\theta)$ is the likelihood, $p(x)$ is the prior preditive and $p(\\theta)$ is the prior distribution.\n",
    "\n",
    "Since we don't have the prior predictive $p(x)$ distribution, we can use the **unnomarlized posterior**, $p_u(\\theta|x)$. Note that $p(\\theta|x)\\propto p(x|\\theta)p(\\theta)$ so, we define $p_u(\\theta|x)$ as $p_u(\\theta|x) = p(x|\\theta)p(\\theta)$. Then we can write\n",
    "$$\n",
    "\\log p_u(\\theta|x) = \\log (p(x|\\theta)\\cdot p(\\theta))  = \\log p(x|\\theta) + \\log p(\\theta)\n",
    "$$\n",
    "\n",
    "We will use the unnormalized posterior in our code, and then we will **normalize it to the unit sum** (as done in the example notebook). With this, we will have the _pdf_ of the discretization of the posterior distribution. Finally, we will construct the _cdf_ by taking the cummulative sum of the _pdf_."
   ]
  },
  {
   "cell_type": "markdown",
   "id": "dbbad93b",
   "metadata": {
    "id": "4HBPrgLBC9L0"
   },
   "source": [
    "In the next cells you can find the code that follows the above explanation."
   ]
  },
  {
   "cell_type": "code",
   "execution_count": 23,
   "id": "464db317",
   "metadata": {
    "id": "FNydRwbvS1xR"
   },
   "outputs": [],
   "source": [
    "# define the prior function, h(t)\n",
    "m<-0.485\n",
    "c<-0.100\n",
    "p.tails<-0.4\n",
    "a<-0.5\n",
    "b<-5.0\n",
    "A<-a+b-(b*m)/c\n",
    "B<-a+b+(b*m)/c\n",
    "h<-function(t){return(a*(t>=0)*(t<m-c)+a*(t>m+c)*(t<=1)+(A+b*t/c)*(t>m-c)*(t<m)+(B-b*t/c)*(t>m)*(t<m+c))}\n",
    "\n",
    "# construct the discretization of h(t)\n",
    "N<-1000 # number of grid intervals\n",
    "t<-seq(0,1,length=N)\n",
    "t<-t[-N]# remove last point (equal to 1: we want N intervals)\n",
    "\n",
    "#define the likelihood and loglikelihood\n",
    "Lik<-function(x,theta,n){theta^x*(1-theta)^(n-x)}\n",
    "LogLik<-function(x,theta,n){x*log(theta)+(n-x)*log(1-theta)}\n",
    "\n",
    "# define the posterior predictive function with the observed data\n",
    "n<-980\n",
    "x<-437\n",
    "\n",
    "#1. log posterior unnormalized\n",
    "log.nnpost<-LogLik(x,t,n)+log(h(t))\n",
    "\n",
    "# 2. posterior unnormalized\n",
    "nnpost<-exp(log.nnpost)\n",
    "\n",
    "# 3. posterior normalized using the sum -> we obtain the pmf\n",
    "dpost<-nnpost/sum(nnpost)\n",
    "\n",
    "# 4. taking cumulative sum -> we obtain the cdf\n",
    "ppost<-c(0,cumsum(dpost))"
   ]
  },
  {
   "cell_type": "markdown",
   "id": "65157014-8ce7-44ae-b3fa-acacd9759fd5",
   "metadata": {},
   "source": [
    "Above we see the posterior pmf and the posterior cdf. We know will use this information to calculate the **posterior predictive** distribution."
   ]
  },
  {
   "cell_type": "markdown",
   "id": "6bf2c772",
   "metadata": {},
   "source": [
    "For the **posterior predictive**, we will use the posterior distribution and the likelihood. Similar as before, we will generate a sample from the posterior pmf, and then use it into the likelihood function. In the next cell you can find the sample from the posterior pmf next to the discretized pmf that we found before"
   ]
  },
  {
   "cell_type": "code",
   "execution_count": 35,
   "id": "c5e62379-998a-4d5a-a7d4-ac8c74aa9feb",
   "metadata": {},
   "outputs": [],
   "source": [
    "# Sample from the discretized pmf\n",
    "pl.sim.thetas <- sample(t, size = N, replace = TRUE, prob = dpost)\n",
    "\n",
    "#hist(pl.sim.thetas, breaks=40, freq=FALSE, main=\"Sample of posterior pmf\", xlim=c(0, 1), ylim=c(0,50),ylab=\"\")\n",
    "x <- seq(0, 1, length.out = 100)"
   ]
  },
  {
   "cell_type": "markdown",
   "id": "8707ea6b-4235-49e4-97ef-a1e242140407",
   "metadata": {},
   "source": [
    "In the next cell, we introduze the sample into the likelihood function to find the **posterior predictive**, you can also see the plot of the empirical posterior predictive pmf."
   ]
  },
  {
   "cell_type": "code",
   "execution_count": 25,
   "id": "61049e71-9662-43b9-a735-d7a64f7e7777",
   "metadata": {},
   "outputs": [
    {
     "data": {
      "image/png": "[encoded data removed]",
      "text/plain": [
       "Plot with title \"Posterior preditive empirical pmf\""
      ]
     },
     "metadata": {
      "image/png": {
       "height": 420,
       "width": 840
      }
     },
     "output_type": "display_data"
    }
   ],
   "source": [
    "y.sim = rbinom(N, size = n, prob=pl.sim.thetas)\n",
    "hist(y.sim, breaks=40, main=\"Posterior preditive empirical pmf\", xlim=c(0, 1000), ylim=c(0,120),ylab=\"\")"
   ]
  },
  {
   "cell_type": "markdown",
   "id": "a6762412",
   "metadata": {
    "id": "_2y47lkwDh2M"
   },
   "source": [
    "### Computing the median, mode, expectation and standard deviation of the posterior predictive pmf:\n",
    "\n",
    "Similarly as before, for our calculations we will just take advantage of the functions provided by R, and we will calculate those statistics, using the values that we have found for the previous histogram."
   ]
  },
  {
   "cell_type": "code",
   "execution_count": 26,
   "id": "5cdfe221-792c-480d-a0e1-2a9f07d70da3",
   "metadata": {},
   "outputs": [
    {
     "name": "stdout",
     "output_type": "stream",
     "text": [
      "[1] \"Median: 440\"\n",
      "[1] \"Mode: 436\"\n",
      "[1] \"Expectation (Mean): 439.898\"\n",
      "[1] \"Standard Deviation: 22.072852258075\"\n"
     ]
    },
    {
     "data": {
      "image/png": "[encoded data removed]",
      "text/plain": [
       "Plot with title \"Posterior preditive empirical pmf\""
      ]
     },
     "metadata": {
      "image/png": {
       "height": 420,
       "width": 840
      }
     },
     "output_type": "display_data"
    }
   ],
   "source": [
    "# With the piecewise prior\n",
    "\n",
    "y.sim = rbinom(N, size = n, prob=pl.sim.thetas)\n",
    "hist(y.sim, breaks=40, main=\"Posterior preditive empirical pmf\", xlim=c(0, 1000), ylim=c(0,120),ylab=\"\")\n",
    "\n",
    "median_value <- median(y.sim)\n",
    "mean_value <- mean(y.sim)\n",
    "mode_value <- mode(y.sim)\n",
    "sd_value <- sd(y.sim)\n",
    "\n",
    "# Plot vertical lines for statistics\n",
    "abline(v = median_value, col = \"red\", lty = 2)\n",
    "abline(v = mean_value, col = \"blue\", lty = 2)\n",
    "abline(v = mode_value, col = \"green\", lty = 2)\n",
    "abline(v = mean_value - sd_value, col = \"orange\", lty = 2)\n",
    "abline(v = mean_value + sd_value, col = \"orange\", lty = 2)\n",
    "\n",
    "# Add legend\n",
    "legend(\"topright\", legend = c(\"Median\", \"Mean\", \"Mode\", \"Mean +/- SD\"), col = c(\"red\", \"blue\", \"green\", \"orange\"), lty = 2, bty = \"n\")\n",
    "\n",
    "# Print results\n",
    "print(paste(\"Median:\", median_value))\n",
    "print(paste(\"Mode:\", mode_value))\n",
    "print(paste(\"Expectation (Mean):\", mean_value))\n",
    "print(paste(\"Standard Deviation:\", sd_value))"
   ]
  },
  {
   "cell_type": "code",
   "execution_count": 27,
   "id": "eb4e7907",
   "metadata": {},
   "outputs": [
    {
     "name": "stdout",
     "output_type": "stream",
     "text": [
      "[1] \"Median: 436.5\"\n",
      "[1] \"Mode: 438\"\n",
      "[1] \"Expectation (Mean): 437.167\"\n",
      "[1] \"Standard Deviation: 21.7245268318108\"\n"
     ]
    },
    {
     "data": {
      "image/png": "[encoded data removed]",
      "text/plain": [
       "Plot with title \"Posterior preditive empirical pmf\""
      ]
     },
     "metadata": {
      "image/png": {
       "height": 420,
       "width": 840
      }
     },
     "output_type": "display_data"
    }
   ],
   "source": [
    "# With the beta prior\n",
    "\n",
    "n = 980\n",
    "y = 437\n",
    "samples = rbeta(N,alpha0+y,beta0+n-y)\n",
    "\n",
    "y.sim = rbinom(N, size = n, prob=samples)\n",
    "hist(y.sim, breaks=40, main=\"Posterior preditive empirical pmf\", xlim=c(0, 1000), ylim=c(0,120),ylab=\"\")\n",
    "\n",
    "median_value <- median(y.sim)\n",
    "mean_value <- mean(y.sim)\n",
    "mode_value <- mode(y.sim)\n",
    "sd_value <- sd(y.sim)\n",
    "\n",
    "# Plot vertical lines for statistics\n",
    "abline(v = median_value, col = \"red\", lty = 2)\n",
    "abline(v = mean_value, col = \"blue\", lty = 2)\n",
    "abline(v = mode_value, col = \"green\", lty = 2)\n",
    "abline(v = mean_value - sd_value, col = \"orange\", lty = 2)\n",
    "abline(v = mean_value + sd_value, col = \"orange\", lty = 2)\n",
    "\n",
    "# Add legend\n",
    "legend(\"topright\", legend = c(\"Median\", \"Mean\", \"Mode\", \"Mean +/- SD\"), col = c(\"red\", \"blue\", \"green\", \"orange\"), lty = 2, bty = \"n\")\n",
    "\n",
    "# Print results\n",
    "print(paste(\"Median:\", median_value))\n",
    "print(paste(\"Mode:\", mode_value))\n",
    "print(paste(\"Expectation (Mean):\", mean_value))\n",
    "print(paste(\"Standard Deviation:\", sd_value))"
   ]
  },
  {
   "cell_type": "markdown",
   "id": "5fc2d1c3",
   "metadata": {
    "id": "yhnixToyD3F9"
   },
   "source": [
    "### Comparing with the results from the prior $\\textrm{Beta}(\\alpha_0,\\beta_0)$:"
   ]
  },
  {
   "cell_type": "markdown",
   "id": "da28bb06-7fb6-4a90-9414-6f7fb6efab94",
   "metadata": {},
   "source": [
    "Finally, we decided to compare it with the results obtained with the $\\textrm{Beta}(\\alpha_0,\\beta_0)$ prior and its posterior.\n",
    "\n",
    "The values for the prior are already calculated. In section **1.2.3 Comparison with the resulst from the $\\textrm{Beta}(\\alpha_0,\\beta_0)$ prior**. We compare them in the following table:"
   ]
  },
  {
   "cell_type": "markdown",
   "id": "d2446558-ebfc-4825-80a3-35797118251a",
   "metadata": {},
   "source": [
    "|  | Prior predictive $\\textrm{Beta}(\\alpha_0,\\beta_0)$ | Posterior predictive $\\textrm{Beta}(\\alpha_0,\\beta_0)$ | Posterior predictive piecewise linear |\n",
    "| ---------------- | ---------------- | ---------------- | ---------------- |\n",
    "| Median  | 482 | 437 | 441  |\n",
    "| Mode  | 478  | 433 | 442 |\n",
    "| Expectation (Mean)  | 482.650 | 437.596 | 441.242  |\n",
    "| Standard Deviation  | 202.667861907113 | 21.5795843904016 | 21.4878841481698  |"
   ]
  },
  {
   "cell_type": "markdown",
   "id": "95914b1e-5e3c-4f8c-9409-e636ca0a8776",
   "metadata": {},
   "source": [
    "Both posteriors are very similar. It makes sense that the mean is 441.242 knowing that this model is based in the observed data of 437 female births out of 980 placenta previa births (which is a 44.6% of them). The same happens with the median. We also observe that the standard deviation is much lower than compared to the prior."
   ]
  },
  {
   "cell_type": "markdown",
   "id": "25a937eb",
   "metadata": {
    "id": "9c34f71a"
   },
   "source": [
    "## Exercise 2: Asthma mortality\n",
    "\n",
    "This exercise pertains to `Poisson.01.pub.ipynb` (lecture 7). Review this notebook as well as the notes concerning the Poisson model and do the following:\n",
    "\n",
    " 1. Generate a sample from the prior predictive distribution.\n",
    "\n",
    " 2. Generate a sample from the posterior predictive distribution after the first experiment (with $y=3$ after one year in a population of 200,000).\n",
    "\n",
    "In both cases plot the simulated pmf and compare it with the theoretical one and estimate the probability of having more than 25 fatalities in the next 10 years (assuming all other conditions remain constant)."
   ]
  },
  {
   "cell_type": "markdown",
   "id": "0cd34ac4",
   "metadata": {
    "id": "0iIFZ3GJEDcz"
   },
   "source": [
    "## Answer 2.1"
   ]
  },
  {
   "cell_type": "markdown",
   "id": "061bdc39",
   "metadata": {
    "id": "Sw4uXroiEKsH"
   },
   "source": [
    "### Prior Predictive\n",
    "\n",
    "To get the prior predictive distribution, we first look at the **prior distribution**.\n",
    "\n",
    "We define our parameter as follows:\n",
    "- $\\theta$: variable that represents the average rate of the number of deaths caused by asthma in a population of 100,000 people in one year.\n",
    "\n",
    "As seen in the Notebook `Poisson.01.pub.ipynb` from lecture 7, research suggest that the average of deaths caused by asthma in Western countries is around 0.6 per 100,000 people every year. Using this information to find the prior distribution, we need to find parameters $\\alpha$ and $\\beta$ such that $\\frac{\\alpha}{\\beta} = 0.6$ (that is because the expectiation of this distribution is given by this ratio, and we want it to be the value $0.6$). With that we will have that the prior distribution is a distribution $\\textrm{Gamma}(\\alpha, \\beta)$.\n",
    "\n",
    "Now, if we test for different values of $\\alpha$ and $\\beta$ we can study the corresponding distribution and choose which one fits our problem better.\n",
    "In our case, we know that the value $1.5$ needs to be a high quantile of the distribution. In the next cell, we test for different values applying this condition and we use the cumulative probability to test the condition.\n"
   ]
  },
  {
   "cell_type": "code",
   "execution_count": 28,
   "id": "93d2a865",
   "metadata": {
    "colab": {
     "base_uri": "https://localhost:8080/"
    },
    "executionInfo": {
     "elapsed": 260,
     "status": "ok",
     "timestamp": 1713105883185,
     "user": {
      "displayName": "Alejandro Astruc Lopez",
      "userId": "15785364370750752569"
     },
     "user_tz": -120
    },
    "id": "xJEm40dcEJ3O",
    "outputId": "abac4b63-bbdf-49e2-b173-06a9b433b705"
   },
   "outputs": [
    {
     "name": "stdout",
     "output_type": "stream",
     "text": [
      "[1] \"Cumulative distribution for 1.5 with alpha=12 and beta=20: 99.9936\"\n",
      "[1] \"Cumulative distribution for 1.5 with alpha=6 and beta=10: 99.7208\"\n",
      "[1] \"Cumulative distribution for 1.5 with alpha=3 and beta=5: 97.9743\"\n",
      "[1] \"Cumulative distribution for 1.5 with alpha=1.5 and beta=2.5: 94.2442\"\n"
     ]
    }
   ],
   "source": [
    "# We are looking for alpha and beta such that Gamma.expectation = alpha/beta = 0.6 and with 1.5 is high quantile of this distribution\n",
    "\n",
    "# For instance 1:\n",
    "alpha<-12\n",
    "beta<-20\n",
    "# Check the cumulative probility of 1.5 with those parameters\n",
    "d<-round(100*pgamma(1.5,shape=alpha,rate=beta),4)\n",
    "print(paste(\"Cumulative distribution for 1.5 with alpha=12 and beta=20:\", d))\n",
    "\n",
    "# For instance 2:\n",
    "alpha<-6\n",
    "beta<-10\n",
    "# Check the cumulative probility of 1.5 with those parameters\n",
    "d<-round(100*pgamma(1.5,shape=alpha,rate=beta),4)\n",
    "print(paste(\"Cumulative distribution for 1.5 with alpha=6 and beta=10:\", d))\n",
    "\n",
    "# For instance 3:\n",
    "alpha<-3\n",
    "beta<-5\n",
    "# Check the cumulative probility of 1.5 with those parameters\n",
    "d<-round(100*pgamma(1.5,shape=alpha,rate=beta),4)\n",
    "print(paste(\"Cumulative distribution for 1.5 with alpha=3 and beta=5:\", d))\n",
    "\n",
    "# For instance 4:\n",
    "alpha<-1.5\n",
    "beta<-2.5\n",
    "# Check the cumulative probility of 1.5 with those parameters\n",
    "d<-round(100*pgamma(1.5,shape=alpha,rate=beta),4)\n",
    "print(paste(\"Cumulative distribution for 1.5 with alpha=1.5 and beta=2.5:\", d))"
   ]
  },
  {
   "cell_type": "markdown",
   "id": "d4e308ec",
   "metadata": {
    "id": "-e2CYYLDEYML"
   },
   "source": [
    "In the above test, we can see that the first two values are too high, the probability of $1.5$ can be a bit lower even being a high quantile of the distribution. The last values is a bit too low. Then, we choose $\\alpha = 3$ and $\\beta=5$ and we have that our **prior distribution** is $\\textrm{Gamma}(3, 5)$."
   ]
  },
  {
   "cell_type": "markdown",
   "id": "801f0ff0",
   "metadata": {
    "id": "XRyWIBEgEbok"
   },
   "source": [
    "Now that we have the prior distribution for $\\theta$, we can look at the **prior predictive** distribution.\n",
    "\n",
    "Our problem defined as the number of deaths caused by asthma in a population of 100,000 people in one year can be best modeled with a **Poisson distribution**. This distribution expresses the probability of a given number of events occurring in a fixed interval of time, if these events occur with a known constant mean rate and independently of the time since the last event [1]. We can assume those conditions are true in our case. This means that **the Poisson distribution is likelihood distribution in our problem**.\n",
    "\n",
    "Using the variable $z$ to denote the number of observed deaths caused by asthma in a population of 100,000 people in one year, we have that\n",
    "$$z \\mid\\theta \\sim p(z \\mid\\theta) \\sim \\textrm{Poisson}(\\theta)$$\n",
    "\n",
    "Now we have all the pieces that we need to find the prior predictive distribution. Let $p(z)$ be the prior predictive distribution, then\n",
    "$$p(z)=\\int_{0}^{\\infty} p(z,\\theta) \\, d\\theta = \\int_{0}^{\\infty} p(z \\mid\\theta) p(\\theta) \\, d\\theta$$\n",
    "with\n",
    "- $p(z \\mid θ)$, the likelihoood function, that we know is a $\\textrm{Poisson}(\\theta)$ distribution\n",
    "- $p(θ)$, the prior distribution, that we know is a $\\textrm{Gamma}(3, 5)$.\n",
    "\n",
    "r.\n",
    "[1] *[Poisson distribution - Wikipedia](https://en.wikipedia.org/wiki/Poisson_distribution)*"
   ]
  },
  {
   "cell_type": "markdown",
   "id": "7075ad29",
   "metadata": {
    "id": "a1_mB8UEEY98"
   },
   "source": [
    "Let's calculate the previous integral. We will use the following formulas\n",
    "1. $$p(z \\mid\\theta) \\sim \\textrm{Poisson}(\\theta) = \\frac{\\theta^z e^{-\\theta}}{z!}$$\n",
    "2. $$p(\\theta) \\sim \\textrm{Gamma}(\\alpha, \\beta) = \\frac{\\beta^\\alpha}{\\Gamma(\\alpha)}\\theta^{\\alpha-1}e^{-\\beta\\theta}$$ where $\\Gamma(\\alpha) = (\\alpha - 1)!$ for $\\alpha$ a positive integer.\n",
    "\n",
    "Substituting these formulas in the previous integral we have that\n",
    "$$p(z)=\\int_{0}^{\\infty} p(z,\\theta) \\, d\\theta = \\int_{0}^{\\infty} p(z \\mid\\theta) p(\\theta) \\, d\\theta = \\int_{0}^{\\infty} \\frac{\\theta^z e^{-\\theta}}{z!} \\frac{\\beta^\\alpha}{\\Gamma(\\alpha)}\\theta^{\\alpha-1}e^{-\\beta\\theta} \\, d\\theta = \\frac{\\beta^\\alpha}{z! \\Gamma(\\alpha)}\\int_{0}^{\\infty}\\theta^z e^{-\\theta}\\theta^{\\alpha-1}e^{-\\beta\\theta} \\, d\\theta = \\frac{\\beta^\\alpha}{z! \\Gamma(\\alpha)}\\int_{0}^{\\infty}\\theta^{z+\\alpha-1} e^{-(\\beta+1)\\theta} \\, d\\theta $$\n",
    "\n",
    "Note that we have just taking out of the integral the terms that do not depend on $\\theta$ and we have grouped the terms inside of the integral. Also, note that, what is left inside the integral is really simmilar to a $\\textrm{Gamma}(z+\\alpha, \\beta+1)$ distribution (only missing the terms that do not depend on $\\theta$), we can take advantage of this to calculate the integral. In the next step, we introduce the necessary terms to complete the integral to a $\\textrm{Gamma}(z+\\alpha, \\beta+1)$ distribution, and its reciprocal. Then, the resulting integral simply equals $1$ since we are integrating the distribution over its entire support $(0,\\infty)$. The result is the following:\n",
    "$$p(z)= \\frac{\\beta^\\alpha}{z! \\Gamma(\\alpha)}\\int_{0}^{\\infty}\\theta^{z+\\alpha-1} e^{-(\\beta+1)\\theta} \\, d\\theta = \\frac{\\beta^\\alpha}{z! \\Gamma(\\alpha)} \\frac{\\Gamma(z+\\alpha)}{(\\beta+1)^{z+\\alpha}}\\int_{0}^{\\infty} \\frac{(\\beta+1)^{z+\\alpha}}{\\Gamma(z+\\alpha)}\\theta^{z+\\alpha-1} e^{-(\\beta+1)\\theta} \\, d\\theta = \\frac{\\beta^\\alpha}{z! \\Gamma(\\alpha)} \\frac{\\Gamma(z+\\alpha)}{(\\beta+1)^{z+\\alpha}}$$\n",
    "\n",
    "Now, rewriting the terms and using that $\\Gamma(\\alpha) = (\\alpha - 1)!$ for $\\alpha$ a positive integer, we have\n",
    "$$p(z) = \\frac{\\beta^\\alpha}{(\\beta+1)^{z+\\alpha}} \\frac{\\Gamma(z+\\alpha)}{z! \\Gamma(\\alpha)} = \\left(\\frac{\\beta}{\\beta+1}\\right)^{\\alpha}\\left(\\frac{1}{\\beta+1}\\right)^{z}\\frac{(z+\\alpha-1)!}{z! (\\alpha-1)!} = \\binom{z+\\alpha-1}{z}\\left(\\frac{1}{\\beta+1}\\right)^{z}\\left(\\frac{\\beta}{\\beta+1}\\right)^{\\alpha} \\sim \\textrm{NB}(\\alpha, \\beta)$$\n",
    "\n",
    "In the last step we find that our **prior predictive** distribution is a **Negative Binomial distribution** with parameters $\\alpha$ and $\\beta$ using the following facts:\n",
    "1. $$\\frac{(z+\\alpha-1)!}{z! (\\alpha-1)!} = \\binom{z+\\alpha-1}{z} \\text{ is the binomal coefficient}$$\n",
    "2. $$\\textrm{NB}(r, p) = \\binom{k+r-1}{k}(1-p)^{k}p^{r} \\text{ , in our case we use } p=\\frac{\\beta}{\\beta+1} \\text{ , } k=z \\text{ and } r=\\alpha$$"
   ]
  },
  {
   "cell_type": "markdown",
   "id": "bc78be43",
   "metadata": {
    "id": "MGygmjU6EyAa"
   },
   "source": [
    "To sum up, we have the following:\n",
    "- $\\theta$: variable that represents the average rate of the number of deaths caused by asthma in a population of 100,000 people in one year.\n",
    "- $z$: variable that represents the number of deaths caused by asthma in a population of 100,000 people in one year.\n",
    "- The prior distribution of $\\theta$ is $p(\\theta)\\sim \\textrm{Gamma}(3, 5)$.\n",
    "- The likelihood distribution of $z\\mid\\theta$ is $p(z \\mid \\theta)\\sim \\textrm{Poisson}(\\theta)$.\n",
    "- The prior predictive distribution of $z$ is $p(z) \\sim \\textrm{NB}(3, \\frac{5}{6})$."
   ]
  },
  {
   "cell_type": "markdown",
   "id": "09c8f4d2",
   "metadata": {
    "id": "cE7jYN9mEzFu"
   },
   "source": [
    "Finally, let's generate a sample of size 10000 from the prior predictive distribution and visualize it with a histogram. Using the Negative Binomial distribution, we are sampling from the theoretical distribution. Sampling first from the $\\textrm{Gamma}(3, 5)$ distribution and then using the parameter $\\theta^{*}$ that we obtain to sample from a $\\textrm{Poisson}(\\theta^{*})$ we will obtain the empirical sample. **Using these samples, we plot the theoretical and the simulated pmf.**"
   ]
  },
  {
   "cell_type": "code",
   "execution_count": 29,
   "id": "e8159da6",
   "metadata": {
    "colab": {
     "base_uri": "https://localhost:8080/",
     "height": 257
    },
    "executionInfo": {
     "elapsed": 256,
     "status": "ok",
     "timestamp": 1713106027286,
     "user": {
      "displayName": "Alejandro Astruc Lopez",
      "userId": "15785364370750752569"
     },
     "user_tz": -120
    },
    "id": "bSsFnfXCEUvp",
    "outputId": "efd90e42-9873-4af0-fadc-379056ee7b6a"
   },
   "outputs": [
    {
     "data": {
      "image/png": "[encoded data removed]",
      "text/plain": [
       "Plot with title \"Histogram of prior predictive samples using NB distribution\""
      ]
     },
     "metadata": {
      "image/png": {
       "height": 360,
       "width": 420
      }
     },
     "output_type": "display_data"
    }
   ],
   "source": [
    "alpha<-3.0\n",
    "beta<-5.0\n",
    "p<- beta/(beta+1)\n",
    "\n",
    "# Theoretical sample\n",
    "\n",
    "N<-10000 #size of the sample\n",
    "\n",
    "# Sample from Negative Binomial distribution\n",
    "sample<-rnbinom(N, size = alpha, prob = p)\n",
    "\n",
    "options(repr.plot.width=7,repr.plot.height=6)\n",
    "hist(sample,col=\"LightGreen\",freq=FALSE,\n",
    "     main=\"Histogram of prior predictive samples using NB distribution\",cex.main=0.9)"
   ]
  },
  {
   "cell_type": "code",
   "execution_count": 30,
   "id": "dcdb4cc5",
   "metadata": {
    "colab": {
     "base_uri": "https://localhost:8080/",
     "height": 275
    },
    "executionInfo": {
     "elapsed": 275,
     "status": "ok",
     "timestamp": 1713106045031,
     "user": {
      "displayName": "Alejandro Astruc Lopez",
      "userId": "15785364370750752569"
     },
     "user_tz": -120
    },
    "id": "8Ggmzv9mE4B4",
    "outputId": "5e4cbb95-ade1-4af4-d654-efd41cea9bfa"
   },
   "outputs": [
    {
     "name": "stdout",
     "output_type": "stream",
     "text": [
      "[1] 0.6315434\n"
     ]
    },
    {
     "data": {
      "image/png": "[encoded data removed]",
      "text/plain": [
       "Plot with title \"Histogram of prior predictive samples using empiricals distribution\""
      ]
     },
     "metadata": {
      "image/png": {
       "height": 360,
       "width": 420
      }
     },
     "output_type": "display_data"
    }
   ],
   "source": [
    "# Empirical sample\n",
    "\n",
    "# One sample from the gamma distribution\n",
    "theta <- rgamma(1, shape = alpha, rate = beta)\n",
    "print(theta)\n",
    "\n",
    "# Sampling from Poisson\n",
    "N<-10000 #size of the sample\n",
    "sample <- rpois(N, theta)\n",
    "\n",
    "options(repr.plot.width=7,repr.plot.height=6)\n",
    "hist(sample,col=\"LightGreen\",freq=FALSE,\n",
    "     main=\"Histogram of prior predictive samples using empiricals distribution\",cex.main=0.9)"
   ]
  },
  {
   "cell_type": "markdown",
   "id": "367a2867",
   "metadata": {
    "id": "Mn8W67CRFBkY"
   },
   "source": [
    "Next we calculate **the probability of having more than 25 deaths in the next 10 years** (assuming the other variables remain constant).\n",
    "\n",
    "Now, we have to change our variable **$z$ to represent the number of deaths caused by asthma in a population of 100,000 people during 10 years.**\n",
    "As we have seen in class, in this case we will have more than one data point, so we need to use the distribution $\\textrm{Poisson}(n\\cdot\\theta)$ with $n=10$ as the likelihood function.\n",
    "\n",
    "Being the prior distribution a $\\textrm{Gamma}(\\alpha, \\beta)$, with the new likelihood, the prior predictive distribution will be $\\textrm{NB}(\\alpha, \\frac{\\beta}{\\beta+n})$. The formula is derivated in the same way as we have derivated the first one. With this information we compute the theoretical probability.\n",
    "\n"
   ]
  },
  {
   "cell_type": "code",
   "execution_count": 31,
   "id": "d59dff8b",
   "metadata": {
    "colab": {
     "base_uri": "https://localhost:8080/"
    },
    "executionInfo": {
     "elapsed": 265,
     "status": "ok",
     "timestamp": 1713106075581,
     "user": {
      "displayName": "Alejandro Astruc Lopez",
      "userId": "15785364370750752569"
     },
     "user_tz": -120
    },
    "id": "G1mOAv_pE8XI",
    "outputId": "0f994cb5-96cf-46a0-c0ae-400f6ad4533f"
   },
   "outputs": [
    {
     "name": "stdout",
     "output_type": "stream",
     "text": [
      "[1] 0.1284869\n"
     ]
    }
   ],
   "source": [
    "alpha<-3.0\n",
    "beta<-5.0\n",
    "n <- 10\n",
    "p<- beta/(beta+n)\n",
    "\n",
    "# Calculate the probability of X being greater than 25 in ten year with the theoretical distribution\n",
    "prob1 <- 1- pnbinom(25, size = alpha, prob = p)\n",
    "print(prob1*100)"
   ]
  },
  {
   "cell_type": "markdown",
   "id": "338371e3",
   "metadata": {
    "id": "1SgVx_K8FHPD"
   },
   "source": [
    "We can see that **the probability of having more than 25 deaths in the next 10 years is quite low, of 0.13%**, this makes sense since the mortality rate is also low."
   ]
  },
  {
   "cell_type": "markdown",
   "id": "64b94db8",
   "metadata": {
    "id": "yL5uOmgbFLJ4"
   },
   "source": [
    "## Answer 2.2"
   ]
  },
  {
   "cell_type": "markdown",
   "id": "ad65e550",
   "metadata": {
    "id": "SYILYxJMFK6p"
   },
   "source": [
    "### 2. Posterior Predictive\n",
    "\n",
    "Now, we observe the first experiment and obtain that the number of deaths caused by asthma is $y=3$ after one year in a population of 200,000.\n",
    "\n",
    "Given that now we have the variable $y$ that represents the number of deaths caused by asthma in a population of 200,000 in one year, we need to change the likelihood function again and introduce the **exposure parameter** $x=2$ since we are doubling the size of the population that we were considering before.\n",
    "\n",
    "With this, the **new likelihood function is $\\textrm{Poisson}(2\\cdot\\theta)$.**\n",
    "\n",
    "As well as before, to compute the posterior predictive distribution, we need the **posterior distribution of $\\theta$.** As given in the example notebook, we have that if the prior distribution is $\\theta \\sim \\textrm{Gamma}(\\alpha, \\beta)$, then the posterior distribution is $\\theta \\sim \\textrm{Gamma}(\\alpha +y, \\beta+x)$, where $y$ is the new observation and $x$ is the exposure parameter.\n",
    "\n",
    "In our case, the **posterior distribution of $\\theta$ becomes a $\\textrm{Gamma}(6, 7)$**."
   ]
  },
  {
   "cell_type": "markdown",
   "id": "83bcf647",
   "metadata": {
    "id": "XVMH_sPHFcHr"
   },
   "source": [
    "Now, using the same formula as before we can compute the **posterior predictive** distribtion for $y$. We have,\n",
    "$$p(y)=\\int_{0}^{\\infty} p(y,\\theta) \\, d\\theta = \\int_{0}^{\\infty} p(y \\mid\\theta) p(\\theta) \\, d\\theta$$\n",
    "with\n",
    "- $p(y \\mid\\theta) \\sim \\textrm{Poisson}(2\\theta)$\n",
    "- $p(\\theta) \\sim \\textrm{Gamma}(6,7)$\n",
    "\n",
    "Again, the derivation of the formula is the same as before, and we obtain the the **posterior predictive** distribution is $\\textrm{NB}(\\alpha, \\frac{\\beta}{\\beta+x}) = \\textrm{NB}(6, \\frac{7}{9})$ in our case."
   ]
  },
  {
   "cell_type": "markdown",
   "id": "2ecb29c2",
   "metadata": {
    "id": "VS_gi7nhFerg"
   },
   "source": [
    "Let us sample both theoretical and simulated distributions now, as we have done before."
   ]
  },
  {
   "cell_type": "code",
   "execution_count": 32,
   "id": "6c1922c4",
   "metadata": {
    "colab": {
     "base_uri": "https://localhost:8080/",
     "height": 257
    },
    "executionInfo": {
     "elapsed": 388,
     "status": "ok",
     "timestamp": 1713106230066,
     "user": {
      "displayName": "Alejandro Astruc Lopez",
      "userId": "15785364370750752569"
     },
     "user_tz": -120
    },
    "id": "JmGuSvJEFDzu",
    "outputId": "5e3b40b4-1520-4a3c-ee06-d1589b13f8ea"
   },
   "outputs": [
    {
     "data": {
      "image/png": "[encoded data removed]",
      "text/plain": [
       "Plot with title \"Histogram of posterior predictive samples using NB distribution\""
      ]
     },
     "metadata": {
      "image/png": {
       "height": 360,
       "width": 420
      }
     },
     "output_type": "display_data"
    }
   ],
   "source": [
    "alpha<-6.0\n",
    "beta<-7.0\n",
    "x<-2\n",
    "p<- beta/(beta+x)\n",
    "\n",
    "# Theoretical sample\n",
    "\n",
    "N<-10000 #size of the sample\n",
    "\n",
    "# Sample from Negative Binomial distribution\n",
    "sample<-rnbinom(N, size = alpha, prob = p)\n",
    "\n",
    "options(repr.plot.width=7,repr.plot.height=6)\n",
    "hist(sample,col=\"LightGreen\",freq=FALSE,\n",
    "     main=\"Histogram of posterior predictive samples using NB distribution\",cex.main=0.9)"
   ]
  },
  {
   "cell_type": "code",
   "execution_count": 33,
   "id": "48bab357",
   "metadata": {
    "colab": {
     "base_uri": "https://localhost:8080/",
     "height": 275
    },
    "executionInfo": {
     "elapsed": 382,
     "status": "ok",
     "timestamp": 1713106242722,
     "user": {
      "displayName": "Alejandro Astruc Lopez",
      "userId": "15785364370750752569"
     },
     "user_tz": -120
    },
    "id": "24dikzDTFphN",
    "outputId": "02f27ffd-135f-463f-ca97-2dcff976f0df"
   },
   "outputs": [
    {
     "name": "stdout",
     "output_type": "stream",
     "text": [
      "[1] 0.5442645\n"
     ]
    },
    {
     "data": {
      "image/png": "[encoded data removed]",
      "text/plain": [
       "Plot with title \"Histogram of posterior predictive samples using empiricals distribution\""
      ]
     },
     "metadata": {
      "image/png": {
       "height": 360,
       "width": 300
      }
     },
     "output_type": "display_data"
    }
   ],
   "source": [
    "# Empirical sample\n",
    "\n",
    "# One sample from the gamma distribution\n",
    "theta <- rgamma(1, shape = alpha, rate = beta)\n",
    "print(theta)\n",
    "\n",
    "# Sampling from Poisson\n",
    "N<-10000 #size of the sample\n",
    "sample <- rpois(N, x*theta)\n",
    "\n",
    "options(repr.plot.width=5,repr.plot.height=6)\n",
    "hist(sample,col=\"LightGreen\",freq=FALSE,\n",
    "     main=\"Histogram of posterior predictive samples using empiricals distribution\",cex.main=0.9)"
   ]
  },
  {
   "cell_type": "markdown",
   "id": "c288151e",
   "metadata": {
    "id": "3uG3NmdiFvKn"
   },
   "source": [
    "To compute the probability of having more than 25 deaths in the next 10 years, we repeat the same process.\n",
    "\n",
    "We have to change our variable **$y$ to represent the number of deaths caused by asthma in a population of 200,000 people during 10 years.**\n",
    "As we have seen in class, in this case we will have more than one data point, so we need to use the distribution $\\textrm{Poisson}(n\\cdot\\theta)$ with $n=10$ as the likelihood function.\n",
    "\n",
    "Being the posterior distribution a $\\textrm{Gamma}(\\alpha+y, \\beta+x)=\\textrm{Gamma}(6,7)$, with the new likelihood, the prior predictive distribution will be $\\textrm{NB}(6, \\frac{7}{7+n})$ (here we prefered to use the numerical values to avoid overcomplicating the notation for the parameters). The formula is derivated in the same way as we have derivated the first one. With this information we will compute the probability, both with the theoretical function and with the empirical derivation.\n"
   ]
  },
  {
   "cell_type": "code",
   "execution_count": 34,
   "id": "963c8d1e",
   "metadata": {
    "colab": {
     "base_uri": "https://localhost:8080/"
    },
    "executionInfo": {
     "elapsed": 397,
     "status": "ok",
     "timestamp": 1713106263489,
     "user": {
      "displayName": "Alejandro Astruc Lopez",
      "userId": "15785364370750752569"
     },
     "user_tz": -120
    },
    "id": "4qX5FQyOFslj",
    "outputId": "ba3b0f8e-af70-4107-9f33-6f42eaa98c6e"
   },
   "outputs": [
    {
     "name": "stdout",
     "output_type": "stream",
     "text": [
      "[1] 0.002721252\n",
      "[1] 0.2721252\n"
     ]
    }
   ],
   "source": [
    "alpha<-6.0\n",
    "beta<-7.0\n",
    "n <- 10\n",
    "p<- beta/(beta+n)\n",
    "\n",
    "# Calculate the probability of X being greater than 25 in ten year with the theoretical distribution\n",
    "prob1 <- 1- pnbinom(25, size = alpha, prob = p)\n",
    "print(prob1)\n",
    "print(prob1*100)"
   ]
  },
  {
   "cell_type": "markdown",
   "id": "76991dff",
   "metadata": {
    "id": "gW5Nfr6YF0lC"
   },
   "source": [
    "In this case, **the probability of having more than 25 deaths in the next 10 years is the 0.27%**. Still is quite low, but it makes sense that is higher than before sice we are dealing with a population that has higher mortality rates."
   ]
  }
 ],
 "metadata": {
  "colab": {
   "provenance": []
  },
  "kernelspec": {
   "display_name": "R",
   "language": "R",
   "name": "ir"
  },
  "language_info": {
   "codemirror_mode": "r",
   "file_extension": ".r",
   "mimetype": "text/x-r-source",
   "name": "R",
   "pygments_lexer": "r",
   "version": "4.1.3"
  },
  "varInspector": {
   "cols": {
    "lenName": 16,
    "lenType": 16,
    "lenVar": 40
   },
   "kernels_config": {
    "python": {
     "delete_cmd_postfix": "",
     "delete_cmd_prefix": "del ",
     "library": "var_list.py",
     "varRefreshCmd": "print(var_dic_list())"
    },
    "r": {
     "delete_cmd_postfix": ") ",
     "delete_cmd_prefix": "rm(",
     "library": "var_list.r",
     "varRefreshCmd": "cat(var_dic_list()) "
    }
   },
   "types_to_exclude": [
    "module",
    "function",
    "builtin_function_or_method",
    "instance",
    "_Feature"
   ],
   "window_display": false
  }
 },
 "nbformat": 4,
 "nbformat_minor": 5
}
